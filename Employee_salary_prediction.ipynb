{
  "cells": [
    {
      "cell_type": "markdown",
      "metadata": {
        "id": "view-in-github",
        "colab_type": "text"
      },
      "source": [
        "<a href=\"https://colab.research.google.com/github/viswal18/Employee-Salary-Prediction/blob/main/Employee_salary_prediction.ipynb\" target=\"_parent\"><img src=\"https://colab.research.google.com/assets/colab-badge.svg\" alt=\"Open In Colab\"/></a>"
      ]
    },
    {
      "cell_type": "code",
      "execution_count": 1,
      "metadata": {
        "id": "hh9yNufZNucI"
      },
      "outputs": [],
      "source": [
        "import pandas as pd\n",
        "import numpy as np\n",
        "from sklearn.model_selection import train_test_split\n",
        "from sklearn.preprocessing import LabelEncoder, StandardScaler\n",
        "from sklearn.ensemble import RandomForestClassifier, GradientBoostingClassifier\n",
        "from sklearn.metrics import accuracy_score, classification_report\n",
        "from sklearn.pipeline import Pipeline\n",
        "import joblib"
      ]
    },
    {
      "cell_type": "code",
      "execution_count": 2,
      "metadata": {
        "colab": {
          "base_uri": "https://localhost:8080/"
        },
        "id": "-WQlifW6N5rh",
        "outputId": "95e63efc-2377-4027-ae99-d7eca1049c3f"
      },
      "outputs": [
        {
          "output_type": "stream",
          "name": "stdout",
          "text": [
            "dataset loaded succesfully\n"
          ]
        }
      ],
      "source": [
        "try:\n",
        "    data = pd.read_csv('adult 3.csv', na_values='?')\n",
        "    print(\"dataset loaded succesfully\")\n",
        "except FileNotFoundError:\n",
        "    print(\"Error:data file not found\")\n"
      ]
    },
    {
      "cell_type": "code",
      "execution_count": 3,
      "metadata": {
        "colab": {
          "base_uri": "https://localhost:8080/"
        },
        "id": "fMRv3LaOOgKM",
        "outputId": "3d5462e6-3823-4c59-83ff-1731c85b981d"
      },
      "outputs": [
        {
          "output_type": "stream",
          "name": "stdout",
          "text": [
            "Dataset head\n",
            "   age         workclass  fnlwgt     education  educational-num  \\\n",
            "0   25           Private  226802          11th                7   \n",
            "1   38           Private   89814       HS-grad                9   \n",
            "2   28         Local-gov  336951    Assoc-acdm               12   \n",
            "3   44           Private  160323  Some-college               10   \n",
            "4   18               NaN  103497  Some-college               10   \n",
            "5   34           Private  198693          10th                6   \n",
            "6   29               NaN  227026       HS-grad                9   \n",
            "7   63  Self-emp-not-inc  104626   Prof-school               15   \n",
            "8   24           Private  369667  Some-college               10   \n",
            "9   55           Private  104996       7th-8th                4   \n",
            "\n",
            "       marital-status         occupation   relationship   race  gender  \\\n",
            "0       Never-married  Machine-op-inspct      Own-child  Black    Male   \n",
            "1  Married-civ-spouse    Farming-fishing        Husband  White    Male   \n",
            "2  Married-civ-spouse    Protective-serv        Husband  White    Male   \n",
            "3  Married-civ-spouse  Machine-op-inspct        Husband  Black    Male   \n",
            "4       Never-married                NaN      Own-child  White  Female   \n",
            "5       Never-married      Other-service  Not-in-family  White    Male   \n",
            "6       Never-married                NaN      Unmarried  Black    Male   \n",
            "7  Married-civ-spouse     Prof-specialty        Husband  White    Male   \n",
            "8       Never-married      Other-service      Unmarried  White  Female   \n",
            "9  Married-civ-spouse       Craft-repair        Husband  White    Male   \n",
            "\n",
            "   capital-gain  capital-loss  hours-per-week native-country income  \n",
            "0           0.0           0.0            40.0  United-States  <=50K  \n",
            "1           0.0           0.0            50.0  United-States  <=50K  \n",
            "2           0.0           0.0            40.0  United-States   >50K  \n",
            "3        7688.0           0.0            40.0  United-States   >50K  \n",
            "4           0.0           0.0            30.0  United-States  <=50K  \n",
            "5           0.0           0.0            30.0  United-States  <=50K  \n",
            "6           0.0           0.0            40.0  United-States  <=50K  \n",
            "7        3103.0           0.0            32.0  United-States   >50K  \n",
            "8           0.0           0.0            40.0  United-States  <=50K  \n",
            "9           0.0           0.0            10.0  United-States  <=50K  \n"
          ]
        }
      ],
      "source": [
        "print(\"Dataset head\")\n",
        "print(data.head(10))"
      ]
    },
    {
      "cell_type": "code",
      "execution_count": 4,
      "metadata": {
        "colab": {
          "base_uri": "https://localhost:8080/"
        },
        "id": "jmbg0DRuPARI",
        "outputId": "fc602448-46e6-4c37-cf07-8977175387b9"
      },
      "outputs": [
        {
          "output_type": "stream",
          "name": "stdout",
          "text": [
            "      age workclass  fnlwgt   education  educational-num      marital-status  \\\n",
            "9610   25   Private  318644   Bachelors               13       Never-married   \n",
            "9611   20   Private  227594     HS-grad                9       Never-married   \n",
            "9612   59   Private  165695  Assoc-acdm               12  Married-civ-spouse   \n",
            "9613   55   Private  127728     HS-grad                9  Married-civ-spouse   \n",
            "9614   49   Private  123681  Assoc-acdm               12           Separated   \n",
            "\n",
            "            occupation relationship   race  gender  capital-gain  \\\n",
            "9610   Exec-managerial    Own-child  White    Male           0.0   \n",
            "9611     Other-service    Own-child  White  Female           0.0   \n",
            "9612  Transport-moving      Husband  White    Male           0.0   \n",
            "9613      Craft-repair      Husband  White    Male           0.0   \n",
            "9614             Sales    Unmarried    NaN     NaN           NaN   \n",
            "\n",
            "      capital-loss  hours-per-week native-country income  \n",
            "9610           0.0            40.0  United-States  <=50K  \n",
            "9611           0.0            40.0  United-States  <=50K  \n",
            "9612           0.0            32.0  United-States   >50K  \n",
            "9613           0.0            50.0  United-States   >50K  \n",
            "9614           NaN             NaN            NaN    NaN  \n"
          ]
        }
      ],
      "source": [
        "print(data.tail(5))"
      ]
    },
    {
      "cell_type": "code",
      "execution_count": 5,
      "metadata": {
        "colab": {
          "base_uri": "https://localhost:8080/"
        },
        "id": "zaGIsFcNPG1s",
        "outputId": "916698ce-dd8e-4e7d-cd85-96b1f61ff5fb"
      },
      "outputs": [
        {
          "output_type": "stream",
          "name": "stdout",
          "text": [
            "(9615, 15)\n"
          ]
        }
      ],
      "source": [
        "print(data.shape)"
      ]
    },
    {
      "cell_type": "code",
      "execution_count": 6,
      "metadata": {
        "colab": {
          "base_uri": "https://localhost:8080/",
          "height": 554
        },
        "id": "l2oAIjAoPd-Y",
        "outputId": "a86bd8a7-2fef-4fad-a924-5aec7bf6a5df"
      },
      "outputs": [
        {
          "output_type": "execute_result",
          "data": {
            "text/plain": [
              "age                  0\n",
              "workclass          584\n",
              "fnlwgt               0\n",
              "education            0\n",
              "educational-num      0\n",
              "marital-status       0\n",
              "occupation         585\n",
              "relationship         0\n",
              "race                 1\n",
              "gender               1\n",
              "capital-gain         1\n",
              "capital-loss         1\n",
              "hours-per-week       1\n",
              "native-country     165\n",
              "income               1\n",
              "dtype: int64"
            ],
            "text/html": [
              "<div>\n",
              "<style scoped>\n",
              "    .dataframe tbody tr th:only-of-type {\n",
              "        vertical-align: middle;\n",
              "    }\n",
              "\n",
              "    .dataframe tbody tr th {\n",
              "        vertical-align: top;\n",
              "    }\n",
              "\n",
              "    .dataframe thead th {\n",
              "        text-align: right;\n",
              "    }\n",
              "</style>\n",
              "<table border=\"1\" class=\"dataframe\">\n",
              "  <thead>\n",
              "    <tr style=\"text-align: right;\">\n",
              "      <th></th>\n",
              "      <th>0</th>\n",
              "    </tr>\n",
              "  </thead>\n",
              "  <tbody>\n",
              "    <tr>\n",
              "      <th>age</th>\n",
              "      <td>0</td>\n",
              "    </tr>\n",
              "    <tr>\n",
              "      <th>workclass</th>\n",
              "      <td>584</td>\n",
              "    </tr>\n",
              "    <tr>\n",
              "      <th>fnlwgt</th>\n",
              "      <td>0</td>\n",
              "    </tr>\n",
              "    <tr>\n",
              "      <th>education</th>\n",
              "      <td>0</td>\n",
              "    </tr>\n",
              "    <tr>\n",
              "      <th>educational-num</th>\n",
              "      <td>0</td>\n",
              "    </tr>\n",
              "    <tr>\n",
              "      <th>marital-status</th>\n",
              "      <td>0</td>\n",
              "    </tr>\n",
              "    <tr>\n",
              "      <th>occupation</th>\n",
              "      <td>585</td>\n",
              "    </tr>\n",
              "    <tr>\n",
              "      <th>relationship</th>\n",
              "      <td>0</td>\n",
              "    </tr>\n",
              "    <tr>\n",
              "      <th>race</th>\n",
              "      <td>1</td>\n",
              "    </tr>\n",
              "    <tr>\n",
              "      <th>gender</th>\n",
              "      <td>1</td>\n",
              "    </tr>\n",
              "    <tr>\n",
              "      <th>capital-gain</th>\n",
              "      <td>1</td>\n",
              "    </tr>\n",
              "    <tr>\n",
              "      <th>capital-loss</th>\n",
              "      <td>1</td>\n",
              "    </tr>\n",
              "    <tr>\n",
              "      <th>hours-per-week</th>\n",
              "      <td>1</td>\n",
              "    </tr>\n",
              "    <tr>\n",
              "      <th>native-country</th>\n",
              "      <td>165</td>\n",
              "    </tr>\n",
              "    <tr>\n",
              "      <th>income</th>\n",
              "      <td>1</td>\n",
              "    </tr>\n",
              "  </tbody>\n",
              "</table>\n",
              "</div><br><label><b>dtype:</b> int64</label>"
            ]
          },
          "metadata": {},
          "execution_count": 6
        }
      ],
      "source": [
        "data.isna().sum()"
      ]
    },
    {
      "cell_type": "code",
      "execution_count": 7,
      "metadata": {
        "colab": {
          "base_uri": "https://localhost:8080/"
        },
        "id": "kzIVfErTPpOl",
        "outputId": "12509aa6-9bef-4af7-f6eb-52f543c6dafa"
      },
      "outputs": [
        {
          "output_type": "stream",
          "name": "stdout",
          "text": [
            "data info\n",
            "<class 'pandas.core.frame.DataFrame'>\n",
            "RangeIndex: 9615 entries, 0 to 9614\n",
            "Data columns (total 15 columns):\n",
            " #   Column           Non-Null Count  Dtype  \n",
            "---  ------           --------------  -----  \n",
            " 0   age              9615 non-null   int64  \n",
            " 1   workclass        9031 non-null   object \n",
            " 2   fnlwgt           9615 non-null   int64  \n",
            " 3   education        9615 non-null   object \n",
            " 4   educational-num  9615 non-null   int64  \n",
            " 5   marital-status   9615 non-null   object \n",
            " 6   occupation       9030 non-null   object \n",
            " 7   relationship     9615 non-null   object \n",
            " 8   race             9614 non-null   object \n",
            " 9   gender           9614 non-null   object \n",
            " 10  capital-gain     9614 non-null   float64\n",
            " 11  capital-loss     9614 non-null   float64\n",
            " 12  hours-per-week   9614 non-null   float64\n",
            " 13  native-country   9450 non-null   object \n",
            " 14  income           9614 non-null   object \n",
            "dtypes: float64(3), int64(3), object(9)\n",
            "memory usage: 1.1+ MB\n"
          ]
        }
      ],
      "source": [
        "print(\"data info\")\n",
        "data.info()"
      ]
    },
    {
      "cell_type": "code",
      "execution_count": 8,
      "metadata": {
        "colab": {
          "base_uri": "https://localhost:8080/"
        },
        "id": "9JigcTn-PzTi",
        "outputId": "a384a277-d566-4557-8136-64c993a1f873"
      },
      "outputs": [
        {
          "output_type": "stream",
          "name": "stdout",
          "text": [
            "age                  0\n",
            "workclass          584\n",
            "fnlwgt               0\n",
            "education            0\n",
            "educational-num      0\n",
            "marital-status       0\n",
            "occupation         585\n",
            "relationship         0\n",
            "race                 1\n",
            "gender               1\n",
            "capital-gain         1\n",
            "capital-loss         1\n",
            "hours-per-week       1\n",
            "native-country     165\n",
            "income               1\n",
            "dtype: int64\n"
          ]
        }
      ],
      "source": [
        "print(data.isnull().sum())"
      ]
    },
    {
      "cell_type": "code",
      "execution_count": 9,
      "metadata": {
        "colab": {
          "base_uri": "https://localhost:8080/"
        },
        "id": "xDRQcdd-P6yG",
        "outputId": "cb161f7f-7927-4e07-c4b7-6ffc7d06d573"
      },
      "outputs": [
        {
          "output_type": "stream",
          "name": "stdout",
          "text": [
            "workclass\n",
            "Private             6574\n",
            "Self-emp-not-inc     782\n",
            "Local-gov            609\n",
            "State-gov            429\n",
            "Self-emp-inc         353\n",
            "Federal-gov          279\n",
            "Without-pay            4\n",
            "Never-worked           1\n",
            "Name: count, dtype: int64\n"
          ]
        }
      ],
      "source": [
        "data['workclass'] = data['workclass'].replace({'?':'Others'})\n",
        "print(data['workclass'].value_counts())"
      ]
    },
    {
      "cell_type": "code",
      "execution_count": 10,
      "metadata": {
        "colab": {
          "base_uri": "https://localhost:8080/"
        },
        "id": "RRG6iYYZQDGR",
        "outputId": "94b9528b-b9cd-4649-c533-bbd12b2181c5"
      },
      "outputs": [
        {
          "output_type": "stream",
          "name": "stdout",
          "text": [
            "occupation\n",
            "Prof-specialty       1222\n",
            "Exec-managerial      1213\n",
            "Craft-repair         1183\n",
            "Adm-clerical         1079\n",
            "Sales                1066\n",
            "Other-service         960\n",
            "Machine-op-inspct     621\n",
            "Transport-moving      429\n",
            "Handlers-cleaners     414\n",
            "Farming-fishing       310\n",
            "Tech-support          279\n",
            "Protective-serv       194\n",
            "Priv-house-serv        57\n",
            "Armed-Forces            3\n",
            "Name: count, dtype: int64\n"
          ]
        }
      ],
      "source": [
        "print(data['occupation'].value_counts())"
      ]
    },
    {
      "cell_type": "code",
      "execution_count": 11,
      "metadata": {
        "id": "0AKZ3bYMQMhD"
      },
      "outputs": [],
      "source": [
        "for col in ['workclass', 'occupation']:\n",
        "    if data[col].isnull().any():\n",
        "        data[col] = data[col].fillna(data[col].mode()[0])"
      ]
    },
    {
      "cell_type": "code",
      "execution_count": 12,
      "metadata": {
        "colab": {
          "base_uri": "https://localhost:8080/"
        },
        "id": "wDozTQNMQVNx",
        "outputId": "ed239cbb-237c-4c00-faf2-1c86f6e99e60"
      },
      "outputs": [
        {
          "output_type": "stream",
          "name": "stdout",
          "text": [
            "workclass\n",
            "Private             7158\n",
            "Self-emp-not-inc     782\n",
            "Local-gov            609\n",
            "State-gov            429\n",
            "Self-emp-inc         353\n",
            "Federal-gov          279\n",
            "Name: count, dtype: int64\n"
          ]
        }
      ],
      "source": [
        "data=data[data['workclass']!='Without-pay']\n",
        "data=data[data['workclass']!='Never-worked']\n",
        "print(data['workclass'].value_counts())"
      ]
    },
    {
      "cell_type": "code",
      "execution_count": 13,
      "metadata": {
        "id": "WJJz2F5oQbIj"
      },
      "outputs": [],
      "source": [
        "if 'native-country' in data.columns and data['native-country'].isnull().any():\n",
        "    data['native-country'] = data['native-country'].fillna(data['native-country'].mode()[0])"
      ]
    },
    {
      "cell_type": "code",
      "execution_count": 14,
      "metadata": {
        "colab": {
          "base_uri": "https://localhost:8080/"
        },
        "id": "IpcW8JGfQmCJ",
        "outputId": "734b0891-3d55-478c-893a-8e866b5884e6"
      },
      "outputs": [
        {
          "output_type": "stream",
          "name": "stdout",
          "text": [
            "age                0\n",
            "workclass          0\n",
            "fnlwgt             0\n",
            "education          0\n",
            "educational-num    0\n",
            "marital-status     0\n",
            "occupation         0\n",
            "relationship       0\n",
            "race               1\n",
            "gender             1\n",
            "capital-gain       1\n",
            "capital-loss       1\n",
            "hours-per-week     1\n",
            "native-country     0\n",
            "income             1\n",
            "dtype: int64\n"
          ]
        }
      ],
      "source": [
        "print(data.isnull().sum())"
      ]
    },
    {
      "cell_type": "code",
      "execution_count": 15,
      "metadata": {
        "colab": {
          "base_uri": "https://localhost:8080/"
        },
        "id": "KeM4pt00Q6V6",
        "outputId": "84ded46b-9c1e-4be1-b98a-f5a80ceb3e3c"
      },
      "outputs": [
        {
          "output_type": "stream",
          "name": "stdout",
          "text": [
            "relationship\n",
            "Husband           3797\n",
            "Not-in-family     2521\n",
            "Own-child         1510\n",
            "Unmarried         1033\n",
            "Wife               434\n",
            "Other-relative     315\n",
            "Name: count, dtype: int64\n"
          ]
        }
      ],
      "source": [
        "print(data.relationship.value_counts())"
      ]
    },
    {
      "cell_type": "code",
      "execution_count": 16,
      "metadata": {
        "colab": {
          "base_uri": "https://localhost:8080/"
        },
        "id": "Q6AXe5EzRAuX",
        "outputId": "9d38cb22-27a7-4400-df48-580bc602d05a"
      },
      "outputs": [
        {
          "output_type": "stream",
          "name": "stdout",
          "text": [
            "gender\n",
            "Male      6405\n",
            "Female    3204\n",
            "Name: count, dtype: int64\n"
          ]
        }
      ],
      "source": [
        "print(data.gender.value_counts())"
      ]
    },
    {
      "cell_type": "code",
      "execution_count": 17,
      "metadata": {
        "colab": {
          "base_uri": "https://localhost:8080/"
        },
        "id": "11hiiJJARFG3",
        "outputId": "ce58304c-fd9e-46df-89db-e7aa8bca2306"
      },
      "outputs": [
        {
          "output_type": "stream",
          "name": "stdout",
          "text": [
            "   age  workclass  fnlwgt     education  educational-num      marital-status  \\\n",
            "0   25    Private  226802          11th                7       Never-married   \n",
            "1   38    Private   89814       HS-grad                9  Married-civ-spouse   \n",
            "2   28  Local-gov  336951    Assoc-acdm               12  Married-civ-spouse   \n",
            "3   44    Private  160323  Some-college               10  Married-civ-spouse   \n",
            "4   18    Private  103497  Some-college               10       Never-married   \n",
            "\n",
            "          occupation relationship   race  gender  capital-gain  capital-loss  \\\n",
            "0  Machine-op-inspct    Own-child  Black    Male           0.0           0.0   \n",
            "1    Farming-fishing      Husband  White    Male           0.0           0.0   \n",
            "2    Protective-serv      Husband  White    Male           0.0           0.0   \n",
            "3  Machine-op-inspct      Husband  Black    Male        7688.0           0.0   \n",
            "4     Prof-specialty    Own-child  White  Female           0.0           0.0   \n",
            "\n",
            "   hours-per-week native-country income  \n",
            "0            40.0  United-States  <=50K  \n",
            "1            50.0  United-States  <=50K  \n",
            "2            40.0  United-States   >50K  \n",
            "3            40.0  United-States   >50K  \n",
            "4            30.0  United-States  <=50K  \n"
          ]
        }
      ],
      "source": [
        "print(data.head())"
      ]
    },
    {
      "cell_type": "code",
      "execution_count": 18,
      "metadata": {
        "colab": {
          "base_uri": "https://localhost:8080/",
          "height": 430
        },
        "id": "9FobLtuaRH5O",
        "outputId": "5c8d7198-ac8c-47c8-a301-c8ec745913eb"
      },
      "outputs": [
        {
          "output_type": "display_data",
          "data": {
            "text/plain": [
              "<Figure size 640x480 with 1 Axes>"
            ],
            "image/png": "[encoded data removed]"
          },
          "metadata": {}
        }
      ],
      "source": [
        "import matplotlib.pyplot as plt\n",
        "plt.boxplot(data['age'])\n",
        "plt.show()"
      ]
    },
    {
      "cell_type": "code",
      "execution_count": 19,
      "metadata": {
        "colab": {
          "base_uri": "https://localhost:8080/",
          "height": 430
        },
        "id": "bdakU9doRQbS",
        "outputId": "8e1b02d8-d517-4a52-c098-79d4ddc1e094"
      },
      "outputs": [
        {
          "output_type": "display_data",
          "data": {
            "text/plain": [
              "<Figure size 640x480 with 1 Axes>"
            ],
            "image/png": "[encoded data removed]"
          },
          "metadata": {}
        }
      ],
      "source": [
        "plt.boxplot(data['capital-gain'])\n",
        "plt.show()"
      ]
    },
    {
      "cell_type": "code",
      "execution_count": 20,
      "metadata": {
        "colab": {
          "base_uri": "https://localhost:8080/",
          "height": 430
        },
        "id": "qQKBTkamRYBz",
        "outputId": "06c64958-2cee-4b6d-aa3a-908d3fe4cead"
      },
      "outputs": [
        {
          "output_type": "display_data",
          "data": {
            "text/plain": [
              "<Figure size 640x480 with 1 Axes>"
            ],
            "image/png": "[encoded data removed]"
          },
          "metadata": {}
        }
      ],
      "source": [
        "plt.boxplot(data['educational-num'])\n",
        "plt.show()"
      ]
    },
    {
      "cell_type": "code",
      "execution_count": 21,
      "metadata": {
        "colab": {
          "base_uri": "https://localhost:8080/"
        },
        "id": "YSTFnK4wRZZS",
        "outputId": "ba2889aa-9dbf-42cc-ce23-16233fc4e978"
      },
      "outputs": [
        {
          "output_type": "execute_result",
          "data": {
            "text/plain": [
              "(9610, 15)"
            ]
          },
          "metadata": {},
          "execution_count": 21
        }
      ],
      "source": [
        "data.shape"
      ]
    },
    {
      "cell_type": "code",
      "execution_count": 22,
      "metadata": {
        "id": "B9BbxpgjRsO4"
      },
      "outputs": [],
      "source": [
        "data_encoded = data.copy()"
      ]
    },
    {
      "cell_type": "code",
      "execution_count": 23,
      "metadata": {
        "id": "OT117fqyRujU",
        "colab": {
          "base_uri": "https://localhost:8080/"
        },
        "outputId": "58ce97d9-f23f-4bb2-f1c5-33afd1d87163"
      },
      "outputs": [
        {
          "output_type": "stream",
          "name": "stdout",
          "text": [
            " Encoding coolumns: ['workclass', 'education', 'marital-status', 'occupation', 'relationship', 'race', 'gender', 'native-country', 'income'] ---\n",
            "'workclass' encoded.\n",
            "'education' encoded.\n",
            "'marital-status' encoded.\n",
            "'occupation' encoded.\n",
            "'relationship' encoded.\n",
            "'race' encoded.\n",
            "'gender' encoded.\n",
            "'native-country' encoded.\n",
            "'income' encoded.\n"
          ]
        }
      ],
      "source": [
        "categorical_cols = data_encoded.select_dtypes(include=['object']).columns\n",
        "\n",
        "print(f\" Encoding coolumns: {list(categorical_cols)} ---\")\n",
        "\n",
        "for col in categorical_cols:\n",
        "    le = LabelEncoder()\n",
        "    data_encoded[col] = le.fit_transform(data_encoded[col])\n",
        "    print(f\"'{col}' encoded.\")"
      ]
    },
    {
      "cell_type": "code",
      "execution_count": 24,
      "metadata": {
        "id": "vQo0bS5WR5yt",
        "colab": {
          "base_uri": "https://localhost:8080/"
        },
        "outputId": "2c909901-87d2-4ddf-8230-623f9763e72b"
      },
      "outputs": [
        {
          "output_type": "stream",
          "name": "stdout",
          "text": [
            "encoded data head\n",
            "   age  workclass  fnlwgt  education  educational-num  marital-status  \\\n",
            "0   25          2  226802          1                7               4   \n",
            "1   38          2   89814         11                9               2   \n",
            "2   28          1  336951          7               12               2   \n",
            "3   44          2  160323         15               10               2   \n",
            "4   18          2  103497         15               10               4   \n",
            "\n",
            "   occupation  relationship  race  gender  capital-gain  capital-loss  \\\n",
            "0           6             3     2       1           0.0           0.0   \n",
            "1           4             0     4       1           0.0           0.0   \n",
            "2          10             0     4       1           0.0           0.0   \n",
            "3           6             0     2       1        7688.0           0.0   \n",
            "4           9             3     4       0           0.0           0.0   \n",
            "\n",
            "   hours-per-week  native-country  income  \n",
            "0            40.0              37       0  \n",
            "1            50.0              37       0  \n",
            "2            40.0              37       1  \n",
            "3            40.0              37       1  \n",
            "4            30.0              37       0  \n"
          ]
        }
      ],
      "source": [
        "print(\"encoded data head\")\n",
        "print(data_encoded.head())"
      ]
    },
    {
      "cell_type": "code",
      "execution_count": 25,
      "metadata": {
        "id": "SpcctsNyR-Sc"
      },
      "outputs": [],
      "source": [
        "X = data_encoded.drop('income', axis=1)\n",
        "y = data_encoded['income']"
      ]
    },
    {
      "cell_type": "code",
      "execution_count": 26,
      "metadata": {
        "id": "3BXqeK-DSFOG"
      },
      "outputs": [],
      "source": [
        "X_train, X_test, y_train, y_test = train_test_split(X, y, test_size=0.2, random_state=42)\n"
      ]
    },
    {
      "cell_type": "code",
      "execution_count": 27,
      "metadata": {
        "id": "lq-vhmOnSQIM",
        "colab": {
          "base_uri": "https://localhost:8080/"
        },
        "outputId": "87aa7001-7b71-4ecb-ea2b-ea11324057d3"
      },
      "outputs": [
        {
          "output_type": "execute_result",
          "data": {
            "text/plain": [
              "(7688, 14)"
            ]
          },
          "metadata": {},
          "execution_count": 27
        }
      ],
      "source": [
        "X_train.shape"
      ]
    },
    {
      "cell_type": "code",
      "execution_count": 28,
      "metadata": {
        "id": "LTt78b5CSYZz",
        "colab": {
          "base_uri": "https://localhost:8080/"
        },
        "outputId": "28fa3a3e-a3cb-433c-9aa4-b8294f4747c7"
      },
      "outputs": [
        {
          "output_type": "execute_result",
          "data": {
            "text/plain": [
              "(1922, 14)"
            ]
          },
          "metadata": {},
          "execution_count": 28
        }
      ],
      "source": [
        "X_test.shape"
      ]
    },
    {
      "cell_type": "code",
      "execution_count": 29,
      "metadata": {
        "id": "-OP9cEmlSau_"
      },
      "outputs": [],
      "source": [
        "from sklearn.linear_model import LogisticRegression\n",
        "from sklearn.neighbors import KNeighborsClassifier\n",
        "\n",
        "models = {\n",
        "    \"Random Forest\": RandomForestClassifier(random_state=42),\n",
        "    \"Gradient Boosting\": GradientBoostingClassifier(random_state=42),\n",
        "    \"Logistic Regression\": LogisticRegression(random_state=42),\n",
        "    \"K-Nearest Neighbors\":KNeighborsClassifier()\n",
        "}"
      ]
    },
    {
      "cell_type": "code",
      "execution_count": 30,
      "metadata": {
        "id": "V302Dpg7S0Bv"
      },
      "outputs": [],
      "source": [
        "results = {}\n",
        "best_model_name = ''\n",
        "best_accuracy = 0\n",
        "best_model_pipeline = None"
      ]
    },
    {
      "cell_type": "code",
      "execution_count": 31,
      "metadata": {
        "id": "kCSr_A_G-BUg"
      },
      "outputs": [],
      "source": [
        "from sklearn.impute import SimpleImputer\n",
        "from sklearn.pipeline import Pipeline\n",
        "from sklearn.preprocessing import StandardScaler\n",
        "\n",
        "pipeline = Pipeline([\n",
        "    ('imputer', SimpleImputer(strategy='mean')),\n",
        "    ('scaler', StandardScaler()),\n",
        "    ('classifier', models)\n",
        "])\n"
      ]
    },
    {
      "cell_type": "code",
      "execution_count": 32,
      "metadata": {
        "id": "lGrur-L8U42F",
        "colab": {
          "base_uri": "https://localhost:8080/"
        },
        "outputId": "224803d5-b09a-4fda-93e5-b254810c90aa"
      },
      "outputs": [
        {
          "output_type": "stream",
          "name": "stdout",
          "text": [
            "\n",
            "Random Forest\n",
            "Accuracy: 0.8491\n",
            "Classification Report:\n",
            "              precision    recall  f1-score   support\n",
            "\n",
            "           0       0.88      0.93      0.90      1454\n",
            "           1       0.73      0.60      0.66       468\n",
            "\n",
            "    accuracy                           0.85      1922\n",
            "   macro avg       0.80      0.77      0.78      1922\n",
            "weighted avg       0.84      0.85      0.84      1922\n",
            "\n",
            "\n",
            "Gradient Boosting\n",
            "Accuracy: 0.8725\n",
            "Classification Report:\n",
            "              precision    recall  f1-score   support\n",
            "\n",
            "           0       0.88      0.96      0.92      1454\n",
            "           1       0.83      0.60      0.70       468\n",
            "\n",
            "    accuracy                           0.87      1922\n",
            "   macro avg       0.85      0.78      0.81      1922\n",
            "weighted avg       0.87      0.87      0.87      1922\n",
            "\n",
            "\n",
            "Logistic Regression\n",
            "Accuracy: 0.8257\n",
            "Classification Report:\n",
            "              precision    recall  f1-score   support\n",
            "\n",
            "           0       0.84      0.95      0.89      1454\n",
            "           1       0.74      0.43      0.55       468\n",
            "\n",
            "    accuracy                           0.83      1922\n",
            "   macro avg       0.79      0.69      0.72      1922\n",
            "weighted avg       0.82      0.83      0.81      1922\n",
            "\n",
            "\n",
            "K-Nearest Neighbors\n",
            "Accuracy: 0.8184\n",
            "Classification Report:\n",
            "              precision    recall  f1-score   support\n",
            "\n",
            "           0       0.86      0.90      0.88      1454\n",
            "           1       0.65      0.56      0.60       468\n",
            "\n",
            "    accuracy                           0.82      1922\n",
            "   macro avg       0.76      0.73      0.74      1922\n",
            "weighted avg       0.81      0.82      0.81      1922\n",
            "\n"
          ]
        }
      ],
      "source": [
        "from sklearn.pipeline import Pipeline\n",
        "from sklearn.preprocessing import StandardScaler\n",
        "from sklearn.impute import SimpleImputer\n",
        "\n",
        "for name, model in models.items():\n",
        "    pipeline = Pipeline([\n",
        "        ('imputer', SimpleImputer(strategy='mean')),\n",
        "        ('scaler', StandardScaler()),\n",
        "        ('classifier', model)\n",
        "    ])\n",
        "\n",
        "    pipeline.fit(X_train, y_train)\n",
        "    y_pred = pipeline.predict(X_test)\n",
        "    accuracy = accuracy_score(y_test, y_pred)\n",
        "    results[name] = accuracy\n",
        "\n",
        "    print(f\"\\n{name}\")\n",
        "    print(f\"Accuracy: {accuracy:.4f}\")\n",
        "    print(\"Classification Report:\")\n",
        "    print(classification_report(y_test, y_pred))\n",
        "\n",
        "    if accuracy > best_accuracy:\n",
        "        best_accuracy = accuracy\n",
        "        best_model_name = name\n",
        "        best_model_pipeline = pipeline\n"
      ]
    },
    {
      "cell_type": "code",
      "source": [
        "plt.figure(figsize=(10, 6))\n",
        "plt.bar(results.keys(), results.values(), color=['blue', 'green', 'red', 'purple'])\n",
        "plt.xlabel(\"Model\")\n",
        "plt.ylabel(\"Accuracy\")\n",
        "plt.title(\"Model Accuracy Comparison\")\n",
        "plt.xticks(rotation=45, ha='right')\n",
        "plt.tight_layout()\n",
        "plt.show()"
      ],
      "metadata": {
        "colab": {
          "base_uri": "https://localhost:8080/",
          "height": 607
        },
        "id": "FIGwhg31E74O",
        "outputId": "148a8807-0b3b-4313-8528-3d6c166867e7"
      },
      "execution_count": 33,
      "outputs": [
        {
          "output_type": "display_data",
          "data": {
            "text/plain": [
              "<Figure size 1000x600 with 1 Axes>"
            ],
            "image/png": "[encoded data removed]"
          },
          "metadata": {}
        }
      ]
    },
    {
      "cell_type": "code",
      "execution_count": 34,
      "metadata": {
        "id": "gDBm2hniVAMG",
        "colab": {
          "base_uri": "https://localhost:8080/"
        },
        "outputId": "f8e1ca28-c8ad-4718-a752-3c87ce99eb1d"
      },
      "outputs": [
        {
          "output_type": "stream",
          "name": "stdout",
          "text": [
            "Best model: Gradient Boosting,accuracy of 0.8725\n"
          ]
        }
      ],
      "source": [
        "print(f\"Best model: {best_model_name},accuracy of {best_accuracy:.4f}\")"
      ]
    },
    {
      "cell_type": "code",
      "execution_count": 35,
      "metadata": {
        "id": "ys0x5ykYVQ2V",
        "colab": {
          "base_uri": "https://localhost:8080/"
        },
        "outputId": "400172db-8024-484d-99e8-8c3f6bede942"
      },
      "outputs": [
        {
          "output_type": "stream",
          "name": "stdout",
          "text": [
            "saved successfully,'salary_model.pkl'\n"
          ]
        }
      ],
      "source": [
        "model_filename = 'salary_model.pkl'\n",
        "joblib.dump(best_model_pipeline, model_filename)\n",
        "\n",
        "print(f\"saved successfully,'{model_filename}'\")"
      ]
    },
    {
      "cell_type": "code",
      "execution_count": 36,
      "metadata": {
        "id": "USebWV6yDxpB",
        "colab": {
          "base_uri": "https://localhost:8080/"
        },
        "outputId": "f44e1f24-cfb6-45f8-c6a5-d0b78abeae0e"
      },
      "outputs": [
        {
          "output_type": "stream",
          "name": "stdout",
          "text": [
            "Collecting streamlit\n",
            "  Downloading streamlit-1.47.1-py3-none-any.whl.metadata (9.0 kB)\n",
            "Requirement already satisfied: altair<6,>=4.0 in /usr/local/lib/python3.11/dist-packages (from streamlit) (5.5.0)\n",
            "Requirement already satisfied: blinker<2,>=1.5.0 in /usr/local/lib/python3.11/dist-packages (from streamlit) (1.9.0)\n",
            "Requirement already satisfied: cachetools<7,>=4.0 in /usr/local/lib/python3.11/dist-packages (from streamlit) (5.5.2)\n",
            "Requirement already satisfied: click<9,>=7.0 in /usr/local/lib/python3.11/dist-packages (from streamlit) (8.2.1)\n",
            "Requirement already satisfied: numpy<3,>=1.23 in /usr/local/lib/python3.11/dist-packages (from streamlit) (2.0.2)\n",
            "Requirement already satisfied: packaging<26,>=20 in /usr/local/lib/python3.11/dist-packages (from streamlit) (25.0)\n",
            "Requirement already satisfied: pandas<3,>=1.4.0 in /usr/local/lib/python3.11/dist-packages (from streamlit) (2.2.2)\n",
            "Requirement already satisfied: pillow<12,>=7.1.0 in /usr/local/lib/python3.11/dist-packages (from streamlit) (11.3.0)\n",
            "Requirement already satisfied: protobuf<7,>=3.20 in /usr/local/lib/python3.11/dist-packages (from streamlit) (5.29.5)\n",
            "Requirement already satisfied: pyarrow>=7.0 in /usr/local/lib/python3.11/dist-packages (from streamlit) (18.1.0)\n",
            "Requirement already satisfied: requests<3,>=2.27 in /usr/local/lib/python3.11/dist-packages (from streamlit) (2.32.3)\n",
            "Requirement already satisfied: tenacity<10,>=8.1.0 in /usr/local/lib/python3.11/dist-packages (from streamlit) (8.5.0)\n",
            "Requirement already satisfied: toml<2,>=0.10.1 in /usr/local/lib/python3.11/dist-packages (from streamlit) (0.10.2)\n",
            "Requirement already satisfied: typing-extensions<5,>=4.4.0 in /usr/local/lib/python3.11/dist-packages (from streamlit) (4.14.1)\n",
            "Collecting watchdog<7,>=2.1.5 (from streamlit)\n",
            "  Downloading watchdog-6.0.0-py3-none-manylinux2014_x86_64.whl.metadata (44 kB)\n",
            "\u001b[2K     \u001b[90m━━━━━━━━━━━━━━━━━━━━━━━━━━━━━━━━━━━━━━━━\u001b[0m \u001b[32m44.3/44.3 kB\u001b[0m \u001b[31m1.8 MB/s\u001b[0m eta \u001b[36m0:00:00\u001b[0m\n",
            "\u001b[?25hRequirement already satisfied: gitpython!=3.1.19,<4,>=3.0.7 in /usr/local/lib/python3.11/dist-packages (from streamlit) (3.1.45)\n",
            "Collecting pydeck<1,>=0.8.0b4 (from streamlit)\n",
            "  Downloading pydeck-0.9.1-py2.py3-none-any.whl.metadata (4.1 kB)\n",
            "Requirement already satisfied: tornado!=6.5.0,<7,>=6.0.3 in /usr/local/lib/python3.11/dist-packages (from streamlit) (6.4.2)\n",
            "Requirement already satisfied: jinja2 in /usr/local/lib/python3.11/dist-packages (from altair<6,>=4.0->streamlit) (3.1.6)\n",
            "Requirement already satisfied: jsonschema>=3.0 in /usr/local/lib/python3.11/dist-packages (from altair<6,>=4.0->streamlit) (4.25.0)\n",
            "Requirement already satisfied: narwhals>=1.14.2 in /usr/local/lib/python3.11/dist-packages (from altair<6,>=4.0->streamlit) (1.48.1)\n",
            "Requirement already satisfied: gitdb<5,>=4.0.1 in /usr/local/lib/python3.11/dist-packages (from gitpython!=3.1.19,<4,>=3.0.7->streamlit) (4.0.12)\n",
            "Requirement already satisfied: python-dateutil>=2.8.2 in /usr/local/lib/python3.11/dist-packages (from pandas<3,>=1.4.0->streamlit) (2.9.0.post0)\n",
            "Requirement already satisfied: pytz>=2020.1 in /usr/local/lib/python3.11/dist-packages (from pandas<3,>=1.4.0->streamlit) (2025.2)\n",
            "Requirement already satisfied: tzdata>=2022.7 in /usr/local/lib/python3.11/dist-packages (from pandas<3,>=1.4.0->streamlit) (2025.2)\n",
            "Requirement already satisfied: charset-normalizer<4,>=2 in /usr/local/lib/python3.11/dist-packages (from requests<3,>=2.27->streamlit) (3.4.2)\n",
            "Requirement already satisfied: idna<4,>=2.5 in /usr/local/lib/python3.11/dist-packages (from requests<3,>=2.27->streamlit) (3.10)\n",
            "Requirement already satisfied: urllib3<3,>=1.21.1 in /usr/local/lib/python3.11/dist-packages (from requests<3,>=2.27->streamlit) (2.5.0)\n",
            "Requirement already satisfied: certifi>=2017.4.17 in /usr/local/lib/python3.11/dist-packages (from requests<3,>=2.27->streamlit) (2025.7.14)\n",
            "Requirement already satisfied: smmap<6,>=3.0.1 in /usr/local/lib/python3.11/dist-packages (from gitdb<5,>=4.0.1->gitpython!=3.1.19,<4,>=3.0.7->streamlit) (5.0.2)\n",
            "Requirement already satisfied: MarkupSafe>=2.0 in /usr/local/lib/python3.11/dist-packages (from jinja2->altair<6,>=4.0->streamlit) (3.0.2)\n",
            "Requirement already satisfied: attrs>=22.2.0 in /usr/local/lib/python3.11/dist-packages (from jsonschema>=3.0->altair<6,>=4.0->streamlit) (25.3.0)\n",
            "Requirement already satisfied: jsonschema-specifications>=2023.03.6 in /usr/local/lib/python3.11/dist-packages (from jsonschema>=3.0->altair<6,>=4.0->streamlit) (2025.4.1)\n",
            "Requirement already satisfied: referencing>=0.28.4 in /usr/local/lib/python3.11/dist-packages (from jsonschema>=3.0->altair<6,>=4.0->streamlit) (0.36.2)\n",
            "Requirement already satisfied: rpds-py>=0.7.1 in /usr/local/lib/python3.11/dist-packages (from jsonschema>=3.0->altair<6,>=4.0->streamlit) (0.26.0)\n",
            "Requirement already satisfied: six>=1.5 in /usr/local/lib/python3.11/dist-packages (from python-dateutil>=2.8.2->pandas<3,>=1.4.0->streamlit) (1.17.0)\n",
            "Downloading streamlit-1.47.1-py3-none-any.whl (9.9 MB)\n",
            "\u001b[2K   \u001b[90m━━━━━━━━━━━━━━━━━━━━━━━━━━━━━━━━━━━━━━━━\u001b[0m \u001b[32m9.9/9.9 MB\u001b[0m \u001b[31m67.3 MB/s\u001b[0m eta \u001b[36m0:00:00\u001b[0m\n",
            "\u001b[?25hDownloading pydeck-0.9.1-py2.py3-none-any.whl (6.9 MB)\n",
            "\u001b[2K   \u001b[90m━━━━━━━━━━━━━━━━━━━━━━━━━━━━━━━━━━━━━━━━\u001b[0m \u001b[32m6.9/6.9 MB\u001b[0m \u001b[31m110.3 MB/s\u001b[0m eta \u001b[36m0:00:00\u001b[0m\n",
            "\u001b[?25hDownloading watchdog-6.0.0-py3-none-manylinux2014_x86_64.whl (79 kB)\n",
            "\u001b[2K   \u001b[90m━━━━━━━━━━━━━━━━━━━━━━━━━━━━━━━━━━━━━━━━\u001b[0m \u001b[32m79.1/79.1 kB\u001b[0m \u001b[31m6.3 MB/s\u001b[0m eta \u001b[36m0:00:00\u001b[0m\n",
            "\u001b[?25hInstalling collected packages: watchdog, pydeck, streamlit\n",
            "Successfully installed pydeck-0.9.1 streamlit-1.47.1 watchdog-6.0.0\n"
          ]
        }
      ],
      "source": [
        "!pip install streamlit"
      ]
    },
    {
      "cell_type": "code",
      "execution_count": 37,
      "metadata": {
        "id": "Kj8cqEohG23M"
      },
      "outputs": [],
      "source": [
        "!pip install streamlit pyngrok --quiet\n"
      ]
    },
    {
      "cell_type": "code",
      "execution_count": 38,
      "metadata": {
        "id": "r1NUApGOG7SG",
        "colab": {
          "base_uri": "https://localhost:8080/"
        },
        "outputId": "affe7c1a-ffb2-4cd9-e677-4dd06ca71120"
      },
      "outputs": [
        {
          "output_type": "stream",
          "name": "stdout",
          "text": [
            "Writing app.py\n"
          ]
        }
      ],
      "source": [
        "%%writefile app.py\n",
        "import streamlit as st\n",
        "import pandas as pd\n",
        "import joblib\n",
        "\n",
        "try:\n",
        "    model = joblib.load('salary_model.pkl')\n",
        "except FileNotFoundError:\n",
        "    st.error(\"Model file 'salary_model.pkl' not found. Please ensure it's in the same directory as this script.\")\n",
        "    st.stop()\n",
        "\n",
        "occupation_map = {'Prof-specialty': 9, 'Craft-repair': 2, 'Exec-managerial': 3, 'Adm-clerical': 0, 'Sales': 11, 'Other-service': 7, 'Machine-op-inspct': 6, 'Transport-moving': 13, 'Handlers-cleaners': 5, 'Farming-fishing': 4, 'Tech-support': 12, 'Protective-serv': 10, 'Priv-house-serv': 8, 'Armed-Forces': 1}\n",
        "education_map = {'HS-grad': 11, 'Some-college': 15, 'Bachelors': 9, 'Masters': 12, 'Assoc-voc': 8, '11th': 1, 'Assoc-acdm': 7, '10th': 0, '7th-8th': 5, 'Prof-school': 14, '9th': 6, '12th': 2, 'Doctorate': 10, '5th-6th': 4, '1st-4th': 3, 'Preschool': 13}\n",
        "gender_map = {'Male': 1, 'Female': 0}\n",
        "workclass_map = {'Private': 2, 'Self-emp-not-inc': 5, 'Local-gov': 1, 'State-gov': 6, 'Self-emp-inc': 4, 'Federal-gov': 0}\n",
        "marital_status_map = {'Married-civ-spouse': 2, 'Never-married': 4, 'Divorced': 0, 'Separated': 5, 'Widowed': 6, 'Married-spouse-absent': 3, 'Married-AF-spouse': 1}\n",
        "relationship_map = {'Husband': 0, 'Not-in-family': 1, 'Own-child': 3, 'Unmarried': 4, 'Wife': 5, 'Other-relative': 2}\n",
        "race_map = {'White': 4, 'Black': 2, 'Asian-Pac-Islander': 1, 'Amer-Indian-Eskimo': 0, 'Other': 3}\n",
        "native_country_map = {'United-States': 38, 'Mexico': 25, 'Philippines': 28, 'Germany': 10, 'Puerto-Rico': 33, 'Canada': 5, 'El-Salvador': 8, 'India': 18, 'Cuba': 6, 'England': 9, 'Jamaica': 22, 'South': 35, 'China': 4, 'Italy': 21, 'Dominican-Republic': 7, 'Vietnam': 40, 'Guatemala': 11, 'Japan': 23, 'Poland': 29, 'Columbia': 6, 'Taiwan': 37, 'Haiti': 16, 'Iran': 19, 'Portugal': 31, 'Nicaragua': 27, 'Peru': 30, 'Greece': 13, 'Ecuador': 8, 'France': 9, 'Ireland': 20, 'Hong': 17, 'Thailand': 36, 'Trinadad&Tobago': 39, 'Honduras': 17, 'Laos': 24, 'Yugoslavia': 41, 'Scotland': 34, 'Holand-Netherlands': 15}\n",
        "\n",
        "st.set_page_config(page_title=\"Employee Salary Predictor\", layout=\"wide\")\n",
        "\n",
        "st.markdown(\"## Employee Salary Predictor\")\n",
        "st.markdown(\"Predict whether an employee earns `>50K` or `<=50K`\")\n",
        "\n",
        "col1, col2 = st.columns(2)\n",
        "\n",
        "with col1:\n",
        "    age = st.slider(\"Age\", 17, 90, 35)\n",
        "    education = st.selectbox(\"Education Level\", list(education_map.keys()))\n",
        "    occupation = st.selectbox(\"Occupation\", list(occupation_map.keys()))\n",
        "\n",
        "with col2:\n",
        "    hours_per_week = st.slider(\"Hours Worked Per Week\", 1, 99, 40)\n",
        "    capital_gain = st.number_input(\"Capital Gain\", 0, 99999, 0)\n",
        "    gender = st.selectbox(\"Gender\", list(gender_map.keys()))\n",
        "\n",
        "if st.button(\"🔮 Predict Salary Class\", use_container_width=True):\n",
        "    input_data = {\n",
        "        'age': age,\n",
        "        'education': education_map[education],\n",
        "        'occupation': occupation_map[occupation],\n",
        "        'hours-per-week': hours_per_week,\n",
        "        'capital-gain': capital_gain,\n",
        "        'gender': gender_map[gender]\n",
        "    }\n",
        "\n",
        "    required_columns = ['age', 'workclass', 'fnlwgt', 'education', 'educational-num',\n",
        "                        'marital-status', 'occupation', 'relationship', 'race', 'gender',\n",
        "                        'capital-gain', 'capital-loss', 'hours-per-week', 'native-country']\n",
        "\n",
        "    full_input_data = {col: 0 for col in required_columns}\n",
        "    full_input_data.update(input_data)\n",
        "    full_input_data['workclass'] = workclass_map.get('Private', 0)\n",
        "    full_input_data['fnlwgt'] = 180000\n",
        "    full_input_data['educational-num'] = education_map.get(education, 10)\n",
        "    full_input_data['marital-status'] = marital_status_map.get('Never-married', 4)\n",
        "    full_input_data['relationship'] = relationship_map.get('Not-in-family', 1)\n",
        "    full_input_data['race'] = race_map.get('White', 4)\n",
        "    full_input_data['capital-loss'] = 0\n",
        "    full_input_data['native-country'] = native_country_map.get('United-States', 38)\n",
        "\n",
        "    input_df = pd.DataFrame([full_input_data])\n",
        "    input_df = input_df[required_columns]\n",
        "\n",
        "    prediction_encoded = model.predict(input_df)\n",
        "    prediction_label = '>50K' if prediction_encoded[0] == 1 else '<=50K'\n",
        "\n",
        "    st.markdown(\"---\")\n",
        "    st.subheader(\"📊 Prediction Result\")\n",
        "\n",
        "    if prediction_label == '>50K':\n",
        "        st.success(\"💰 Income Class: **>50K**\")\n",
        "    else:\n",
        "        st.info(\"💼 Income Class: **<=50K**\")\n",
        "\n",
        "    with st.expander(\"🔍 See Processed Input Data\"):\n",
        "        st.dataframe(input_df, use_container_width=True)\n",
        "\n",
        "st.markdown(\"---\")\n",
        "st.caption(\"Created by Viswal Santhosh\")\n"
      ]
    },
    {
      "cell_type": "code",
      "execution_count": 39,
      "metadata": {
        "id": "uYwI33LTINsO",
        "colab": {
          "base_uri": "https://localhost:8080/"
        },
        "outputId": "4a6355da-4618-428a-f86c-caa34ddc13f2"
      },
      "outputs": [
        {
          "output_type": "stream",
          "name": "stdout",
          "text": []
        }
      ],
      "source": [
        "from pyngrok import ngrok\n",
        "\n",
        "\n",
        "ngrok.set_auth_token(\"30EKxxRzBQfWm7ik14wtKoy3ZH6_3NoEmvWDUD3JbdsSRZnpo\")\n"
      ]
    },
    {
      "cell_type": "code",
      "execution_count": 40,
      "metadata": {
        "id": "toTxTy2UHLnH",
        "colab": {
          "base_uri": "https://localhost:8080/"
        },
        "outputId": "7a174f59-63aa-49c9-9d16-5ae01c9655ff"
      },
      "outputs": [
        {
          "output_type": "stream",
          "name": "stdout",
          "text": [
            "Streamlit app running at: NgrokTunnel: \"https://347b12b3e5cf.ngrok-free.app\" -> \"http://localhost:8501\"\n"
          ]
        }
      ],
      "source": [
        "from pyngrok import ngrok\n",
        "import threading\n",
        "import time\n",
        "import os\n",
        "\n",
        "ngrok.kill()\n",
        "\n",
        "\n",
        "def run_streamlit():\n",
        "    os.system(\"streamlit run app.py\")\n",
        "\n",
        "thread = threading.Thread(target=run_streamlit)\n",
        "thread.start()\n",
        "\n",
        "time.sleep(5)\n",
        "\n",
        "\n",
        "public_url = ngrok.connect(8501)\n",
        "print(\"Streamlit app running at:\", public_url)"
      ]
    }
  ],
  "metadata": {
    "colab": {
      "provenance": [],
      "include_colab_link": true
    },
    "kernelspec": {
      "display_name": "Python 3",
      "name": "python3"
    },
    "language_info": {
      "name": "python"
    }
  },
  "nbformat": 4,
  "nbformat_minor": 0
}