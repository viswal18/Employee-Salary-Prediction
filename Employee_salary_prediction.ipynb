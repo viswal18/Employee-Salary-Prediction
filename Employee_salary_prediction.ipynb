{
  "nbformat": 4,
  "nbformat_minor": 0,
  "metadata": {
    "colab": {
      "provenance": []
    },
    "kernelspec": {
      "name": "python3",
      "display_name": "Python 3"
    },
    "language_info": {
      "name": "python"
    }
  },
  "cells": [
    {
      "cell_type": "code",
      "execution_count": 17,
      "metadata": {
        "id": "hh9yNufZNucI"
      },
      "outputs": [],
      "source": [
        "import pandas as pd\n",
        "import numpy as np\n",
        "from sklearn.model_selection import train_test_split\n",
        "from sklearn.preprocessing import LabelEncoder, StandardScaler\n",
        "from sklearn.ensemble import RandomForestClassifier, GradientBoostingClassifier\n",
        "from sklearn.metrics import accuracy_score, classification_report\n",
        "from sklearn.pipeline import Pipeline\n",
        "import joblib"
      ]
    },
    {
      "cell_type": "code",
      "source": [
        "try:\n",
        "    data = pd.read_csv('adult 3.csv', na_values='?')\n",
        "    print(\"dataset loaded succesfully\")\n",
        "except FileNotFoundError:\n",
        "    print(\"Error:data file not found\")\n"
      ],
      "metadata": {
        "colab": {
          "base_uri": "https://localhost:8080/"
        },
        "id": "-WQlifW6N5rh",
        "outputId": "79a22cdb-ead2-4eb9-ac2e-97714aecfc4a"
      },
      "execution_count": 18,
      "outputs": [
        {
          "output_type": "stream",
          "name": "stdout",
          "text": [
            "dataset loaded succesfully\n"
          ]
        }
      ]
    },
    {
      "cell_type": "code",
      "source": [
        "print(\"Dataset head\")\n",
        "print(data.head(10))"
      ],
      "metadata": {
        "colab": {
          "base_uri": "https://localhost:8080/"
        },
        "id": "fMRv3LaOOgKM",
        "outputId": "328056a8-4c4c-4355-db47-1b6e6acc46ef"
      },
      "execution_count": 19,
      "outputs": [
        {
          "output_type": "stream",
          "name": "stdout",
          "text": [
            "Dataset head\n",
            "   age         workclass  fnlwgt     education  educational-num  \\\n",
            "0   25           Private  226802          11th                7   \n",
            "1   38           Private   89814       HS-grad                9   \n",
            "2   28         Local-gov  336951    Assoc-acdm               12   \n",
            "3   44           Private  160323  Some-college               10   \n",
            "4   18               NaN  103497  Some-college               10   \n",
            "5   34           Private  198693          10th                6   \n",
            "6   29               NaN  227026       HS-grad                9   \n",
            "7   63  Self-emp-not-inc  104626   Prof-school               15   \n",
            "8   24           Private  369667  Some-college               10   \n",
            "9   55           Private  104996       7th-8th                4   \n",
            "\n",
            "       marital-status         occupation   relationship   race  gender  \\\n",
            "0       Never-married  Machine-op-inspct      Own-child  Black    Male   \n",
            "1  Married-civ-spouse    Farming-fishing        Husband  White    Male   \n",
            "2  Married-civ-spouse    Protective-serv        Husband  White    Male   \n",
            "3  Married-civ-spouse  Machine-op-inspct        Husband  Black    Male   \n",
            "4       Never-married                NaN      Own-child  White  Female   \n",
            "5       Never-married      Other-service  Not-in-family  White    Male   \n",
            "6       Never-married                NaN      Unmarried  Black    Male   \n",
            "7  Married-civ-spouse     Prof-specialty        Husband  White    Male   \n",
            "8       Never-married      Other-service      Unmarried  White  Female   \n",
            "9  Married-civ-spouse       Craft-repair        Husband  White    Male   \n",
            "\n",
            "   capital-gain  capital-loss  hours-per-week native-country income  \n",
            "0           0.0           0.0            40.0  United-States  <=50K  \n",
            "1           0.0           0.0            50.0  United-States  <=50K  \n",
            "2           0.0           0.0            40.0  United-States   >50K  \n",
            "3        7688.0           0.0            40.0  United-States   >50K  \n",
            "4           0.0           0.0            30.0  United-States  <=50K  \n",
            "5           0.0           0.0            30.0  United-States  <=50K  \n",
            "6           0.0           0.0            40.0  United-States  <=50K  \n",
            "7        3103.0           0.0            32.0  United-States   >50K  \n",
            "8           0.0           0.0            40.0  United-States  <=50K  \n",
            "9           0.0           0.0            10.0  United-States  <=50K  \n"
          ]
        }
      ]
    },
    {
      "cell_type": "code",
      "source": [
        "print(data.tail(5))"
      ],
      "metadata": {
        "colab": {
          "base_uri": "https://localhost:8080/"
        },
        "id": "jmbg0DRuPARI",
        "outputId": "3396e589-e565-4a67-e787-195ab87f36f4"
      },
      "execution_count": 20,
      "outputs": [
        {
          "output_type": "stream",
          "name": "stdout",
          "text": [
            "       age workclass  fnlwgt  education  educational-num      marital-status  \\\n",
            "28850   25   Private   66935    HS-grad                9       Never-married   \n",
            "28851   20   Private  344278       11th                7           Separated   \n",
            "28852   29   Private  108574  Assoc-voc               11       Never-married   \n",
            "28853   56   Private  244605    HS-grad                9  Married-civ-spouse   \n",
            "28854   45   Private  363677  Doctorate               16                  Ma   \n",
            "\n",
            "            occupation   relationship   race  gender  capital-gain  \\\n",
            "28850     Craft-repair  Not-in-family  White    Male           0.0   \n",
            "28851    Other-service      Own-child  White  Female           0.0   \n",
            "28852  Priv-house-serv      Own-child  White  Female           0.0   \n",
            "28853     Craft-repair        Husband  White    Male           0.0   \n",
            "28854              NaN            NaN    NaN     NaN           NaN   \n",
            "\n",
            "       capital-loss  hours-per-week native-country income  \n",
            "28850           0.0            35.0  United-States  <=50K  \n",
            "28851           0.0            40.0  United-States  <=50K  \n",
            "28852           0.0            40.0  United-States  <=50K  \n",
            "28853           0.0            40.0  United-States  <=50K  \n",
            "28854           NaN             NaN            NaN    NaN  \n"
          ]
        }
      ]
    },
    {
      "cell_type": "code",
      "source": [
        "print(data.shape)"
      ],
      "metadata": {
        "colab": {
          "base_uri": "https://localhost:8080/"
        },
        "id": "zaGIsFcNPG1s",
        "outputId": "a4489780-36c9-44a7-f329-20668a0c0c1e"
      },
      "execution_count": 21,
      "outputs": [
        {
          "output_type": "stream",
          "name": "stdout",
          "text": [
            "(28855, 15)\n"
          ]
        }
      ]
    },
    {
      "cell_type": "code",
      "source": [
        "data.isna().sum()"
      ],
      "metadata": {
        "colab": {
          "base_uri": "https://localhost:8080/",
          "height": 554
        },
        "id": "l2oAIjAoPd-Y",
        "outputId": "d469f345-8b49-4245-95ab-fe8d8dce955f"
      },
      "execution_count": 22,
      "outputs": [
        {
          "output_type": "execute_result",
          "data": {
            "text/plain": [
              "age                   0\n",
              "workclass          1695\n",
              "fnlwgt                0\n",
              "education             0\n",
              "educational-num       0\n",
              "marital-status        0\n",
              "occupation         1701\n",
              "relationship          1\n",
              "race                  1\n",
              "gender                1\n",
              "capital-gain          1\n",
              "capital-loss          1\n",
              "hours-per-week        1\n",
              "native-country      498\n",
              "income                1\n",
              "dtype: int64"
            ],
            "text/html": [
              "<div>\n",
              "<style scoped>\n",
              "    .dataframe tbody tr th:only-of-type {\n",
              "        vertical-align: middle;\n",
              "    }\n",
              "\n",
              "    .dataframe tbody tr th {\n",
              "        vertical-align: top;\n",
              "    }\n",
              "\n",
              "    .dataframe thead th {\n",
              "        text-align: right;\n",
              "    }\n",
              "</style>\n",
              "<table border=\"1\" class=\"dataframe\">\n",
              "  <thead>\n",
              "    <tr style=\"text-align: right;\">\n",
              "      <th></th>\n",
              "      <th>0</th>\n",
              "    </tr>\n",
              "  </thead>\n",
              "  <tbody>\n",
              "    <tr>\n",
              "      <th>age</th>\n",
              "      <td>0</td>\n",
              "    </tr>\n",
              "    <tr>\n",
              "      <th>workclass</th>\n",
              "      <td>1695</td>\n",
              "    </tr>\n",
              "    <tr>\n",
              "      <th>fnlwgt</th>\n",
              "      <td>0</td>\n",
              "    </tr>\n",
              "    <tr>\n",
              "      <th>education</th>\n",
              "      <td>0</td>\n",
              "    </tr>\n",
              "    <tr>\n",
              "      <th>educational-num</th>\n",
              "      <td>0</td>\n",
              "    </tr>\n",
              "    <tr>\n",
              "      <th>marital-status</th>\n",
              "      <td>0</td>\n",
              "    </tr>\n",
              "    <tr>\n",
              "      <th>occupation</th>\n",
              "      <td>1701</td>\n",
              "    </tr>\n",
              "    <tr>\n",
              "      <th>relationship</th>\n",
              "      <td>1</td>\n",
              "    </tr>\n",
              "    <tr>\n",
              "      <th>race</th>\n",
              "      <td>1</td>\n",
              "    </tr>\n",
              "    <tr>\n",
              "      <th>gender</th>\n",
              "      <td>1</td>\n",
              "    </tr>\n",
              "    <tr>\n",
              "      <th>capital-gain</th>\n",
              "      <td>1</td>\n",
              "    </tr>\n",
              "    <tr>\n",
              "      <th>capital-loss</th>\n",
              "      <td>1</td>\n",
              "    </tr>\n",
              "    <tr>\n",
              "      <th>hours-per-week</th>\n",
              "      <td>1</td>\n",
              "    </tr>\n",
              "    <tr>\n",
              "      <th>native-country</th>\n",
              "      <td>498</td>\n",
              "    </tr>\n",
              "    <tr>\n",
              "      <th>income</th>\n",
              "      <td>1</td>\n",
              "    </tr>\n",
              "  </tbody>\n",
              "</table>\n",
              "</div><br><label><b>dtype:</b> int64</label>"
            ]
          },
          "metadata": {},
          "execution_count": 22
        }
      ]
    },
    {
      "cell_type": "code",
      "source": [
        "print(\"data info\")\n",
        "data.info()"
      ],
      "metadata": {
        "colab": {
          "base_uri": "https://localhost:8080/"
        },
        "id": "kzIVfErTPpOl",
        "outputId": "f572e7c3-c6af-4324-8c58-4fd0e3712835"
      },
      "execution_count": 23,
      "outputs": [
        {
          "output_type": "stream",
          "name": "stdout",
          "text": [
            "data info\n",
            "<class 'pandas.core.frame.DataFrame'>\n",
            "RangeIndex: 28855 entries, 0 to 28854\n",
            "Data columns (total 15 columns):\n",
            " #   Column           Non-Null Count  Dtype  \n",
            "---  ------           --------------  -----  \n",
            " 0   age              28855 non-null  int64  \n",
            " 1   workclass        27160 non-null  object \n",
            " 2   fnlwgt           28855 non-null  int64  \n",
            " 3   education        28855 non-null  object \n",
            " 4   educational-num  28855 non-null  int64  \n",
            " 5   marital-status   28855 non-null  object \n",
            " 6   occupation       27154 non-null  object \n",
            " 7   relationship     28854 non-null  object \n",
            " 8   race             28854 non-null  object \n",
            " 9   gender           28854 non-null  object \n",
            " 10  capital-gain     28854 non-null  float64\n",
            " 11  capital-loss     28854 non-null  float64\n",
            " 12  hours-per-week   28854 non-null  float64\n",
            " 13  native-country   28357 non-null  object \n",
            " 14  income           28854 non-null  object \n",
            "dtypes: float64(3), int64(3), object(9)\n",
            "memory usage: 3.3+ MB\n"
          ]
        }
      ]
    },
    {
      "cell_type": "code",
      "source": [
        "print(data.isnull().sum())"
      ],
      "metadata": {
        "colab": {
          "base_uri": "https://localhost:8080/"
        },
        "id": "9JigcTn-PzTi",
        "outputId": "9352fe42-f32a-4531-8f17-fce86cf08261"
      },
      "execution_count": 24,
      "outputs": [
        {
          "output_type": "stream",
          "name": "stdout",
          "text": [
            "age                   0\n",
            "workclass          1695\n",
            "fnlwgt                0\n",
            "education             0\n",
            "educational-num       0\n",
            "marital-status        0\n",
            "occupation         1701\n",
            "relationship          1\n",
            "race                  1\n",
            "gender                1\n",
            "capital-gain          1\n",
            "capital-loss          1\n",
            "hours-per-week        1\n",
            "native-country      498\n",
            "income                1\n",
            "dtype: int64\n"
          ]
        }
      ]
    },
    {
      "cell_type": "code",
      "source": [
        "data['workclass'] = data['workclass'].replace({'?':'Others'})\n",
        "print(data['workclass'].value_counts())"
      ],
      "metadata": {
        "colab": {
          "base_uri": "https://localhost:8080/"
        },
        "id": "xDRQcdd-P6yG",
        "outputId": "ad972a70-be23-43aa-d23a-2b2739b111a0"
      },
      "execution_count": 25,
      "outputs": [
        {
          "output_type": "stream",
          "name": "stdout",
          "text": [
            "workclass\n",
            "Private             19949\n",
            "Self-emp-not-inc     2304\n",
            "Local-gov            1844\n",
            "State-gov            1209\n",
            "Self-emp-inc         1010\n",
            "Federal-gov           830\n",
            "Without-pay             9\n",
            "Never-worked            5\n",
            "Name: count, dtype: int64\n"
          ]
        }
      ]
    },
    {
      "cell_type": "code",
      "source": [
        "print(data['occupation'].value_counts())"
      ],
      "metadata": {
        "colab": {
          "base_uri": "https://localhost:8080/"
        },
        "id": "RRG6iYYZQDGR",
        "outputId": "47e387f8-98b9-41b2-ec4d-74effa9b3ce3"
      },
      "execution_count": 26,
      "outputs": [
        {
          "output_type": "stream",
          "name": "stdout",
          "text": [
            "occupation\n",
            "Prof-specialty       3612\n",
            "Craft-repair         3577\n",
            "Exec-managerial      3550\n",
            "Adm-clerical         3342\n",
            "Sales                3278\n",
            "Other-service        2917\n",
            "Machine-op-inspct    1794\n",
            "Transport-moving     1384\n",
            "Handlers-cleaners    1208\n",
            "Tech-support          870\n",
            "Farming-fishing       868\n",
            "Protective-serv       594\n",
            "Priv-house-serv       152\n",
            "Armed-Forces            8\n",
            "Name: count, dtype: int64\n"
          ]
        }
      ]
    },
    {
      "cell_type": "code",
      "source": [
        "for col in ['workclass', 'occupation']:\n",
        "    if data[col].isnull().any():\n",
        "        data[col] = data[col].fillna(data[col].mode()[0])"
      ],
      "metadata": {
        "id": "0AKZ3bYMQMhD"
      },
      "execution_count": 27,
      "outputs": []
    },
    {
      "cell_type": "code",
      "source": [
        "data=data[data['workclass']!='Without-pay']\n",
        "data=data[data['workclass']!='Never-worked']\n",
        "print(data['workclass'].value_counts())"
      ],
      "metadata": {
        "colab": {
          "base_uri": "https://localhost:8080/"
        },
        "id": "wDozTQNMQVNx",
        "outputId": "948ff109-d63d-4cea-d1b1-f20b5d68d118"
      },
      "execution_count": 28,
      "outputs": [
        {
          "output_type": "stream",
          "name": "stdout",
          "text": [
            "workclass\n",
            "Private             21644\n",
            "Self-emp-not-inc     2304\n",
            "Local-gov            1844\n",
            "State-gov            1209\n",
            "Self-emp-inc         1010\n",
            "Federal-gov           830\n",
            "Name: count, dtype: int64\n"
          ]
        }
      ]
    },
    {
      "cell_type": "code",
      "source": [
        "if 'native-country' in data.columns and data['native-country'].isnull().any():\n",
        "    data['native-country'] = data['native-country'].fillna(data['native-country'].mode()[0])"
      ],
      "metadata": {
        "id": "WJJz2F5oQbIj"
      },
      "execution_count": 29,
      "outputs": []
    },
    {
      "cell_type": "code",
      "source": [
        "print(data.isnull().sum())"
      ],
      "metadata": {
        "colab": {
          "base_uri": "https://localhost:8080/"
        },
        "id": "IpcW8JGfQmCJ",
        "outputId": "bc377274-f1c6-4dda-c5dd-10cc0629eb78"
      },
      "execution_count": 30,
      "outputs": [
        {
          "output_type": "stream",
          "name": "stdout",
          "text": [
            "age                0\n",
            "workclass          0\n",
            "fnlwgt             0\n",
            "education          0\n",
            "educational-num    0\n",
            "marital-status     0\n",
            "occupation         0\n",
            "relationship       1\n",
            "race               1\n",
            "gender             1\n",
            "capital-gain       1\n",
            "capital-loss       1\n",
            "hours-per-week     1\n",
            "native-country     0\n",
            "income             1\n",
            "dtype: int64\n"
          ]
        }
      ]
    },
    {
      "cell_type": "code",
      "source": [
        "print(data.relationship.value_counts())"
      ],
      "metadata": {
        "colab": {
          "base_uri": "https://localhost:8080/"
        },
        "id": "KeM4pt00Q6V6",
        "outputId": "1d5a4c89-7896-4e2b-b06e-df5296e292da"
      },
      "execution_count": 31,
      "outputs": [
        {
          "output_type": "stream",
          "name": "stdout",
          "text": [
            "relationship\n",
            "Husband           11591\n",
            "Not-in-family      7512\n",
            "Own-child          4459\n",
            "Unmarried          3008\n",
            "Wife               1383\n",
            "Other-relative      887\n",
            "Name: count, dtype: int64\n"
          ]
        }
      ]
    },
    {
      "cell_type": "code",
      "source": [
        "print(data.gender.value_counts())"
      ],
      "metadata": {
        "colab": {
          "base_uri": "https://localhost:8080/"
        },
        "id": "Q6AXe5EzRAuX",
        "outputId": "8b89bd4d-1f91-4488-880a-c86b36cef99e"
      },
      "execution_count": 32,
      "outputs": [
        {
          "output_type": "stream",
          "name": "stdout",
          "text": [
            "gender\n",
            "Male      19291\n",
            "Female     9549\n",
            "Name: count, dtype: int64\n"
          ]
        }
      ]
    },
    {
      "cell_type": "code",
      "source": [
        "print(data.head())"
      ],
      "metadata": {
        "colab": {
          "base_uri": "https://localhost:8080/"
        },
        "id": "11hiiJJARFG3",
        "outputId": "568f4cef-163e-482c-85a2-51d463efc57e"
      },
      "execution_count": 33,
      "outputs": [
        {
          "output_type": "stream",
          "name": "stdout",
          "text": [
            "   age  workclass  fnlwgt     education  educational-num      marital-status  \\\n",
            "0   25    Private  226802          11th                7       Never-married   \n",
            "1   38    Private   89814       HS-grad                9  Married-civ-spouse   \n",
            "2   28  Local-gov  336951    Assoc-acdm               12  Married-civ-spouse   \n",
            "3   44    Private  160323  Some-college               10  Married-civ-spouse   \n",
            "4   18    Private  103497  Some-college               10       Never-married   \n",
            "\n",
            "          occupation relationship   race  gender  capital-gain  capital-loss  \\\n",
            "0  Machine-op-inspct    Own-child  Black    Male           0.0           0.0   \n",
            "1    Farming-fishing      Husband  White    Male           0.0           0.0   \n",
            "2    Protective-serv      Husband  White    Male           0.0           0.0   \n",
            "3  Machine-op-inspct      Husband  Black    Male        7688.0           0.0   \n",
            "4     Prof-specialty    Own-child  White  Female           0.0           0.0   \n",
            "\n",
            "   hours-per-week native-country income  \n",
            "0            40.0  United-States  <=50K  \n",
            "1            50.0  United-States  <=50K  \n",
            "2            40.0  United-States   >50K  \n",
            "3            40.0  United-States   >50K  \n",
            "4            30.0  United-States  <=50K  \n"
          ]
        }
      ]
    },
    {
      "cell_type": "code",
      "source": [
        "import matplotlib.pyplot as plt\n",
        "plt.boxplot(data['age'])\n",
        "plt.show()"
      ],
      "metadata": {
        "colab": {
          "base_uri": "https://localhost:8080/",
          "height": 430
        },
        "id": "9FobLtuaRH5O",
        "outputId": "41690fd6-4653-4ec7-9353-3f0d53a8afa0"
      },
      "execution_count": 34,
      "outputs": [
        {
          "output_type": "display_data",
          "data": {
            "text/plain": [
              "<Figure size 640x480 with 1 Axes>"
            ],
            "image/png": "[encoded data removed]"
          },
          "metadata": {}
        }
      ]
    },
    {
      "cell_type": "code",
      "source": [
        "plt.boxplot(data['capital-gain'])\n",
        "plt.show()"
      ],
      "metadata": {
        "colab": {
          "base_uri": "https://localhost:8080/",
          "height": 430
        },
        "id": "bdakU9doRQbS",
        "outputId": "d9200077-f0c7-42fb-8fc4-92379b7c30a5"
      },
      "execution_count": 35,
      "outputs": [
        {
          "output_type": "display_data",
          "data": {
            "text/plain": [
              "<Figure size 640x480 with 1 Axes>"
            ],
            "image/png": "[encoded data removed]"
          },
          "metadata": {}
        }
      ]
    },
    {
      "cell_type": "code",
      "source": [
        "plt.boxplot(data['educational-num'])\n",
        "plt.show()"
      ],
      "metadata": {
        "colab": {
          "base_uri": "https://localhost:8080/",
          "height": 430
        },
        "id": "qQKBTkamRYBz",
        "outputId": "c5d4c2f2-bf1e-409b-d1c7-4221683e6676"
      },
      "execution_count": 36,
      "outputs": [
        {
          "output_type": "display_data",
          "data": {
            "text/plain": [
              "<Figure size 640x480 with 1 Axes>"
            ],
            "image/png": "[encoded data removed]"
          },
          "metadata": {}
        }
      ]
    },
    {
      "cell_type": "code",
      "source": [
        "data.shape"
      ],
      "metadata": {
        "colab": {
          "base_uri": "https://localhost:8080/"
        },
        "id": "YSTFnK4wRZZS",
        "outputId": "ed0cbde1-ffee-4517-d80f-a0711133144c"
      },
      "execution_count": 37,
      "outputs": [
        {
          "output_type": "execute_result",
          "data": {
            "text/plain": [
              "(28841, 15)"
            ]
          },
          "metadata": {},
          "execution_count": 37
        }
      ]
    },
    {
      "cell_type": "code",
      "source": [
        "data_encoded = data.copy()"
      ],
      "metadata": {
        "id": "B9BbxpgjRsO4"
      },
      "execution_count": 38,
      "outputs": []
    },
    {
      "cell_type": "code",
      "source": [
        "categorical_cols = data_encoded.select_dtypes(include=['object']).columns\n",
        "\n",
        "print(f\" Encoding coolumns: {list(categorical_cols)} ---\")\n",
        "\n",
        "for col in categorical_cols:\n",
        "    le = LabelEncoder()\n",
        "    data_encoded[col] = le.fit_transform(data_encoded[col])\n",
        "    print(f\"'{col}' encoded.\")"
      ],
      "metadata": {
        "colab": {
          "base_uri": "https://localhost:8080/"
        },
        "id": "OT117fqyRujU",
        "outputId": "09ee9188-6a7f-49ff-cf0f-3a644600d159"
      },
      "execution_count": 39,
      "outputs": [
        {
          "output_type": "stream",
          "name": "stdout",
          "text": [
            " Encoding coolumns: ['workclass', 'education', 'marital-status', 'occupation', 'relationship', 'race', 'gender', 'native-country', 'income'] ---\n",
            "'workclass' encoded.\n",
            "'education' encoded.\n",
            "'marital-status' encoded.\n",
            "'occupation' encoded.\n",
            "'relationship' encoded.\n",
            "'race' encoded.\n",
            "'gender' encoded.\n",
            "'native-country' encoded.\n",
            "'income' encoded.\n"
          ]
        }
      ]
    },
    {
      "cell_type": "code",
      "source": [
        "print(\"encoded data head\")\n",
        "print(data_encoded.head())"
      ],
      "metadata": {
        "colab": {
          "base_uri": "https://localhost:8080/"
        },
        "id": "vQo0bS5WR5yt",
        "outputId": "b979e4ff-8bcf-4f08-e83e-0ef16213393f"
      },
      "execution_count": 40,
      "outputs": [
        {
          "output_type": "stream",
          "name": "stdout",
          "text": [
            "encoded data head\n",
            "   age  workclass  fnlwgt  education  educational-num  marital-status  \\\n",
            "0   25          2  226802          1                7               5   \n",
            "1   38          2   89814         11                9               3   \n",
            "2   28          1  336951          7               12               3   \n",
            "3   44          2  160323         15               10               3   \n",
            "4   18          2  103497         15               10               5   \n",
            "\n",
            "   occupation  relationship  race  gender  capital-gain  capital-loss  \\\n",
            "0           6             3     2       1           0.0           0.0   \n",
            "1           4             0     4       1           0.0           0.0   \n",
            "2          10             0     4       1           0.0           0.0   \n",
            "3           6             0     2       1        7688.0           0.0   \n",
            "4           9             3     4       0           0.0           0.0   \n",
            "\n",
            "   hours-per-week  native-country  income  \n",
            "0            40.0              37       0  \n",
            "1            50.0              37       0  \n",
            "2            40.0              37       1  \n",
            "3            40.0              37       1  \n",
            "4            30.0              37       0  \n"
          ]
        }
      ]
    },
    {
      "cell_type": "code",
      "source": [
        "X = data_encoded.drop('income', axis=1)\n",
        "y = data_encoded['income']"
      ],
      "metadata": {
        "id": "SpcctsNyR-Sc"
      },
      "execution_count": 41,
      "outputs": []
    },
    {
      "cell_type": "code",
      "source": [
        "X_train, X_test, y_train, y_test = train_test_split(X, y, test_size=0.2, random_state=42)\n"
      ],
      "metadata": {
        "id": "3BXqeK-DSFOG"
      },
      "execution_count": 42,
      "outputs": []
    },
    {
      "cell_type": "code",
      "source": [
        "X_train.shape"
      ],
      "metadata": {
        "colab": {
          "base_uri": "https://localhost:8080/"
        },
        "id": "lq-vhmOnSQIM",
        "outputId": "5362e3fe-c04d-40bc-9b2e-6538af451bf8"
      },
      "execution_count": 43,
      "outputs": [
        {
          "output_type": "execute_result",
          "data": {
            "text/plain": [
              "(23072, 14)"
            ]
          },
          "metadata": {},
          "execution_count": 43
        }
      ]
    },
    {
      "cell_type": "code",
      "source": [
        "X_test.shape"
      ],
      "metadata": {
        "colab": {
          "base_uri": "https://localhost:8080/"
        },
        "id": "LTt78b5CSYZz",
        "outputId": "3f0bbce8-9921-4749-c236-c12e18e9b878"
      },
      "execution_count": 44,
      "outputs": [
        {
          "output_type": "execute_result",
          "data": {
            "text/plain": [
              "(5769, 14)"
            ]
          },
          "metadata": {},
          "execution_count": 44
        }
      ]
    },
    {
      "cell_type": "code",
      "source": [
        "models = {\n",
        "    \"Random Forest\": RandomForestClassifier(random_state=42),\n",
        "    \"Gradient Boosting\": GradientBoostingClassifier(random_state=42)\n",
        "}"
      ],
      "metadata": {
        "id": "-OP9cEmlSau_"
      },
      "execution_count": 45,
      "outputs": []
    },
    {
      "cell_type": "code",
      "source": [
        "results = {}\n",
        "best_model_name = ''\n",
        "best_accuracy = 0\n",
        "best_model_pipeline = None"
      ],
      "metadata": {
        "id": "V302Dpg7S0Bv"
      },
      "execution_count": 46,
      "outputs": []
    },
    {
      "cell_type": "code",
      "source": [
        "from sklearn.impute import SimpleImputer\n",
        "from sklearn.pipeline import Pipeline\n",
        "from sklearn.preprocessing import StandardScaler\n",
        "\n",
        "pipeline = Pipeline([\n",
        "    ('imputer', SimpleImputer(strategy='mean')),\n",
        "    ('scaler', StandardScaler()),\n",
        "    ('classifier', models)\n",
        "])\n"
      ],
      "metadata": {
        "id": "kCSr_A_G-BUg"
      },
      "execution_count": 47,
      "outputs": []
    },
    {
      "cell_type": "code",
      "source": [
        "from sklearn.pipeline import Pipeline\n",
        "from sklearn.preprocessing import StandardScaler\n",
        "from sklearn.impute import SimpleImputer\n",
        "\n",
        "for name, model in models.items():\n",
        "    pipeline = Pipeline([\n",
        "        ('imputer', SimpleImputer(strategy='mean')),\n",
        "        ('scaler', StandardScaler()),\n",
        "        ('classifier', model)\n",
        "    ])\n",
        "\n",
        "    pipeline.fit(X_train, y_train)\n",
        "    y_pred = pipeline.predict(X_test)\n",
        "    accuracy = accuracy_score(y_test, y_pred)\n",
        "    results[name] = accuracy\n",
        "\n",
        "    print(f\"\\n{name}\")\n",
        "    print(f\"Accuracy: {accuracy:.4f}\")\n",
        "    print(\"Classification Report:\")\n",
        "    print(classification_report(y_test, y_pred))\n",
        "\n",
        "    if accuracy > best_accuracy:\n",
        "        best_accuracy = accuracy\n",
        "        best_model_name = name\n",
        "        best_model_pipeline = pipeline\n"
      ],
      "metadata": {
        "colab": {
          "base_uri": "https://localhost:8080/"
        },
        "id": "lGrur-L8U42F",
        "outputId": "b23b76da-6702-4c68-ed57-8522278ca372"
      },
      "execution_count": 48,
      "outputs": [
        {
          "output_type": "stream",
          "name": "stdout",
          "text": [
            "\n",
            "Random Forest\n",
            "Accuracy: 0.8558\n",
            "Classification Report:\n",
            "              precision    recall  f1-score   support\n",
            "\n",
            "           0       0.88      0.93      0.91      4406\n",
            "           1       0.74      0.61      0.66      1363\n",
            "\n",
            "    accuracy                           0.86      5769\n",
            "   macro avg       0.81      0.77      0.79      5769\n",
            "weighted avg       0.85      0.86      0.85      5769\n",
            "\n",
            "\n",
            "Gradient Boosting\n",
            "Accuracy: 0.8662\n",
            "Classification Report:\n",
            "              precision    recall  f1-score   support\n",
            "\n",
            "           0       0.88      0.95      0.92      4406\n",
            "           1       0.79      0.59      0.68      1363\n",
            "\n",
            "    accuracy                           0.87      5769\n",
            "   macro avg       0.84      0.77      0.80      5769\n",
            "weighted avg       0.86      0.87      0.86      5769\n",
            "\n"
          ]
        }
      ]
    },
    {
      "cell_type": "code",
      "source": [
        "print(f\"Best model: {best_model_name},accuracy of {best_accuracy:.4f}\")"
      ],
      "metadata": {
        "colab": {
          "base_uri": "https://localhost:8080/"
        },
        "id": "gDBm2hniVAMG",
        "outputId": "9da222af-fc9d-4540-970e-e7ef4b33c34d"
      },
      "execution_count": 49,
      "outputs": [
        {
          "output_type": "stream",
          "name": "stdout",
          "text": [
            "Best model: Gradient Boosting,accuracy of 0.8662\n"
          ]
        }
      ]
    },
    {
      "cell_type": "code",
      "source": [
        "model_filename = 'salary_model.pkl'\n",
        "joblib.dump(best_model_pipeline, model_filename)\n",
        "\n",
        "print(f\"saved successfully,'{model_filename}'\")"
      ],
      "metadata": {
        "colab": {
          "base_uri": "https://localhost:8080/"
        },
        "id": "ys0x5ykYVQ2V",
        "outputId": "372647b2-c085-44ab-8cd3-38ad8ce58d92"
      },
      "execution_count": 50,
      "outputs": [
        {
          "output_type": "stream",
          "name": "stdout",
          "text": [
            "saved successfully,'salary_model.pkl'\n"
          ]
        }
      ]
    },
    {
      "cell_type": "code",
      "source": [
        "!pip install streamlit"
      ],
      "metadata": {
        "colab": {
          "base_uri": "https://localhost:8080/"
        },
        "id": "USebWV6yDxpB",
        "outputId": "1016fb76-1ec4-4d2c-dccd-5886c8906947"
      },
      "execution_count": 51,
      "outputs": [
        {
          "output_type": "stream",
          "name": "stdout",
          "text": [
            "Collecting streamlit\n",
            "  Downloading streamlit-1.47.0-py3-none-any.whl.metadata (9.0 kB)\n",
            "Requirement already satisfied: altair<6,>=4.0 in /usr/local/lib/python3.11/dist-packages (from streamlit) (5.5.0)\n",
            "Requirement already satisfied: blinker<2,>=1.5.0 in /usr/local/lib/python3.11/dist-packages (from streamlit) (1.9.0)\n",
            "Requirement already satisfied: cachetools<7,>=4.0 in /usr/local/lib/python3.11/dist-packages (from streamlit) (5.5.2)\n",
            "Requirement already satisfied: click<9,>=7.0 in /usr/local/lib/python3.11/dist-packages (from streamlit) (8.2.1)\n",
            "Requirement already satisfied: numpy<3,>=1.23 in /usr/local/lib/python3.11/dist-packages (from streamlit) (2.0.2)\n",
            "Requirement already satisfied: packaging<26,>=20 in /usr/local/lib/python3.11/dist-packages (from streamlit) (25.0)\n",
            "Requirement already satisfied: pandas<3,>=1.4.0 in /usr/local/lib/python3.11/dist-packages (from streamlit) (2.2.2)\n",
            "Requirement already satisfied: pillow<12,>=7.1.0 in /usr/local/lib/python3.11/dist-packages (from streamlit) (11.2.1)\n",
            "Requirement already satisfied: protobuf<7,>=3.20 in /usr/local/lib/python3.11/dist-packages (from streamlit) (5.29.5)\n",
            "Requirement already satisfied: pyarrow>=7.0 in /usr/local/lib/python3.11/dist-packages (from streamlit) (18.1.0)\n",
            "Requirement already satisfied: requests<3,>=2.27 in /usr/local/lib/python3.11/dist-packages (from streamlit) (2.32.3)\n",
            "Requirement already satisfied: tenacity<10,>=8.1.0 in /usr/local/lib/python3.11/dist-packages (from streamlit) (8.5.0)\n",
            "Requirement already satisfied: toml<2,>=0.10.1 in /usr/local/lib/python3.11/dist-packages (from streamlit) (0.10.2)\n",
            "Requirement already satisfied: typing-extensions<5,>=4.4.0 in /usr/local/lib/python3.11/dist-packages (from streamlit) (4.14.1)\n",
            "Collecting watchdog<7,>=2.1.5 (from streamlit)\n",
            "  Downloading watchdog-6.0.0-py3-none-manylinux2014_x86_64.whl.metadata (44 kB)\n",
            "\u001b[2K     \u001b[90m━━━━━━━━━━━━━━━━━━━━━━━━━━━━━━━━━━━━━━━━\u001b[0m \u001b[32m44.3/44.3 kB\u001b[0m \u001b[31m2.8 MB/s\u001b[0m eta \u001b[36m0:00:00\u001b[0m\n",
            "\u001b[?25hRequirement already satisfied: gitpython!=3.1.19,<4,>=3.0.7 in /usr/local/lib/python3.11/dist-packages (from streamlit) (3.1.44)\n",
            "Collecting pydeck<1,>=0.8.0b4 (from streamlit)\n",
            "  Downloading pydeck-0.9.1-py2.py3-none-any.whl.metadata (4.1 kB)\n",
            "Requirement already satisfied: tornado!=6.5.0,<7,>=6.0.3 in /usr/local/lib/python3.11/dist-packages (from streamlit) (6.4.2)\n",
            "Requirement already satisfied: jinja2 in /usr/local/lib/python3.11/dist-packages (from altair<6,>=4.0->streamlit) (3.1.6)\n",
            "Requirement already satisfied: jsonschema>=3.0 in /usr/local/lib/python3.11/dist-packages (from altair<6,>=4.0->streamlit) (4.24.1)\n",
            "Requirement already satisfied: narwhals>=1.14.2 in /usr/local/lib/python3.11/dist-packages (from altair<6,>=4.0->streamlit) (1.47.1)\n",
            "Requirement already satisfied: gitdb<5,>=4.0.1 in /usr/local/lib/python3.11/dist-packages (from gitpython!=3.1.19,<4,>=3.0.7->streamlit) (4.0.12)\n",
            "Requirement already satisfied: python-dateutil>=2.8.2 in /usr/local/lib/python3.11/dist-packages (from pandas<3,>=1.4.0->streamlit) (2.9.0.post0)\n",
            "Requirement already satisfied: pytz>=2020.1 in /usr/local/lib/python3.11/dist-packages (from pandas<3,>=1.4.0->streamlit) (2025.2)\n",
            "Requirement already satisfied: tzdata>=2022.7 in /usr/local/lib/python3.11/dist-packages (from pandas<3,>=1.4.0->streamlit) (2025.2)\n",
            "Requirement already satisfied: charset-normalizer<4,>=2 in /usr/local/lib/python3.11/dist-packages (from requests<3,>=2.27->streamlit) (3.4.2)\n",
            "Requirement already satisfied: idna<4,>=2.5 in /usr/local/lib/python3.11/dist-packages (from requests<3,>=2.27->streamlit) (3.10)\n",
            "Requirement already satisfied: urllib3<3,>=1.21.1 in /usr/local/lib/python3.11/dist-packages (from requests<3,>=2.27->streamlit) (2.4.0)\n",
            "Requirement already satisfied: certifi>=2017.4.17 in /usr/local/lib/python3.11/dist-packages (from requests<3,>=2.27->streamlit) (2025.7.14)\n",
            "Requirement already satisfied: smmap<6,>=3.0.1 in /usr/local/lib/python3.11/dist-packages (from gitdb<5,>=4.0.1->gitpython!=3.1.19,<4,>=3.0.7->streamlit) (5.0.2)\n",
            "Requirement already satisfied: MarkupSafe>=2.0 in /usr/local/lib/python3.11/dist-packages (from jinja2->altair<6,>=4.0->streamlit) (3.0.2)\n",
            "Requirement already satisfied: attrs>=22.2.0 in /usr/local/lib/python3.11/dist-packages (from jsonschema>=3.0->altair<6,>=4.0->streamlit) (25.3.0)\n",
            "Requirement already satisfied: jsonschema-specifications>=2023.03.6 in /usr/local/lib/python3.11/dist-packages (from jsonschema>=3.0->altair<6,>=4.0->streamlit) (2025.4.1)\n",
            "Requirement already satisfied: referencing>=0.28.4 in /usr/local/lib/python3.11/dist-packages (from jsonschema>=3.0->altair<6,>=4.0->streamlit) (0.36.2)\n",
            "Requirement already satisfied: rpds-py>=0.7.1 in /usr/local/lib/python3.11/dist-packages (from jsonschema>=3.0->altair<6,>=4.0->streamlit) (0.26.0)\n",
            "Requirement already satisfied: six>=1.5 in /usr/local/lib/python3.11/dist-packages (from python-dateutil>=2.8.2->pandas<3,>=1.4.0->streamlit) (1.17.0)\n",
            "Downloading streamlit-1.47.0-py3-none-any.whl (9.9 MB)\n",
            "\u001b[2K   \u001b[90m━━━━━━━━━━━━━━━━━━━━━━━━━━━━━━━━━━━━━━━━\u001b[0m \u001b[32m9.9/9.9 MB\u001b[0m \u001b[31m84.8 MB/s\u001b[0m eta \u001b[36m0:00:00\u001b[0m\n",
            "\u001b[?25hDownloading pydeck-0.9.1-py2.py3-none-any.whl (6.9 MB)\n",
            "\u001b[2K   \u001b[90m━━━━━━━━━━━━━━━━━━━━━━━━━━━━━━━━━━━━━━━━\u001b[0m \u001b[32m6.9/6.9 MB\u001b[0m \u001b[31m89.1 MB/s\u001b[0m eta \u001b[36m0:00:00\u001b[0m\n",
            "\u001b[?25hDownloading watchdog-6.0.0-py3-none-manylinux2014_x86_64.whl (79 kB)\n",
            "\u001b[2K   \u001b[90m━━━━━━━━━━━━━━━━━━━━━━━━━━━━━━━━━━━━━━━━\u001b[0m \u001b[32m79.1/79.1 kB\u001b[0m \u001b[31m5.8 MB/s\u001b[0m eta \u001b[36m0:00:00\u001b[0m\n",
            "\u001b[?25hInstalling collected packages: watchdog, pydeck, streamlit\n",
            "Successfully installed pydeck-0.9.1 streamlit-1.47.0 watchdog-6.0.0\n"
          ]
        }
      ]
    },
    {
      "cell_type": "code",
      "source": [
        "!pip install streamlit pyngrok --quiet\n"
      ],
      "metadata": {
        "id": "Kj8cqEohG23M"
      },
      "execution_count": 52,
      "outputs": []
    },
    {
      "cell_type": "code",
      "source": [
        "%%writefile app.py\n",
        "import streamlit as st\n",
        "import pandas as pd\n",
        "import joblib\n",
        "\n",
        "try:\n",
        "    model = joblib.load('salary_model.pkl')\n",
        "except FileNotFoundError:\n",
        "    st.error(\"Model file 'salary_model.pkl' not found. Please ensure it's in the same directory as this script.\")\n",
        "    st.stop()\n",
        "\n",
        "occupation_map = {'Prof-specialty': 9, 'Craft-repair': 2, 'Exec-managerial': 3, 'Adm-clerical': 0, 'Sales': 11, 'Other-service': 7, 'Machine-op-inspct': 6, 'Transport-moving': 13, 'Handlers-cleaners': 5, 'Farming-fishing': 4, 'Tech-support': 12, 'Protective-serv': 10, 'Priv-house-serv': 8, 'Armed-Forces': 1}\n",
        "education_map = {'HS-grad': 11, 'Some-college': 15, 'Bachelors': 9, 'Masters': 12, 'Assoc-voc': 8, '11th': 1, 'Assoc-acdm': 7, '10th': 0, '7th-8th': 5, 'Prof-school': 14, '9th': 6, '12th': 2, 'Doctorate': 10, '5th-6th': 4, '1st-4th': 3, 'Preschool': 13}\n",
        "gender_map = {'Male': 1, 'Female': 0}\n",
        "workclass_map = {'Private': 2, 'Self-emp-not-inc': 5, 'Local-gov': 1, 'State-gov': 6, 'Self-emp-inc': 4, 'Federal-gov': 0}\n",
        "marital_status_map = {'Married-civ-spouse': 2, 'Never-married': 4, 'Divorced': 0, 'Separated': 5, 'Widowed': 6, 'Married-spouse-absent': 3, 'Married-AF-spouse': 1}\n",
        "relationship_map = {'Husband': 0, 'Not-in-family': 1, 'Own-child': 3, 'Unmarried': 4, 'Wife': 5, 'Other-relative': 2}\n",
        "race_map = {'White': 4, 'Black': 2, 'Asian-Pac-Islander': 1, 'Amer-Indian-Eskimo': 0, 'Other': 3}\n",
        "native_country_map = {'United-States': 38, 'Mexico': 25, 'Philippines': 28, 'Germany': 10, 'Puerto-Rico': 33, 'Canada': 5, 'El-Salvador': 8, 'India': 18, 'Cuba': 6, 'England': 9, 'Jamaica': 22, 'South': 35, 'China': 4, 'Italy': 21, 'Dominican-Republic': 7, 'Vietnam': 40, 'Guatemala': 11, 'Japan': 23, 'Poland': 29, 'Columbia': 6, 'Taiwan': 37, 'Haiti': 16, 'Iran': 19, 'Portugal': 31, 'Nicaragua': 27, 'Peru': 30, 'Greece': 13, 'Ecuador': 8, 'France': 9, 'Ireland': 20, 'Hong': 17, 'Thailand': 36, 'Trinadad&Tobago': 39, 'Honduras': 17, 'Laos': 24, 'Yugoslavia': 41, 'Scotland': 34, 'Holand-Netherlands': 15}\n",
        "\n",
        "st.set_page_config(page_title=\"Employee Salary Predictor\", layout=\"wide\")\n",
        "\n",
        "st.markdown(\"## Employee Salary Predictor\")\n",
        "st.markdown(\"Predict whether an employee earns `>50K` or `<=50K`\")\n",
        "\n",
        "col1, col2 = st.columns(2)\n",
        "\n",
        "with col1:\n",
        "    age = st.slider(\"Age\", 17, 90, 35)\n",
        "    education = st.selectbox(\"Education Level\", list(education_map.keys()))\n",
        "    occupation = st.selectbox(\"Occupation\", list(occupation_map.keys()))\n",
        "\n",
        "with col2:\n",
        "    hours_per_week = st.slider(\"Hours Worked Per Week\", 1, 99, 40)\n",
        "    capital_gain = st.number_input(\"Capital Gain\", 0, 99999, 0)\n",
        "    gender = st.selectbox(\"Gender\", list(gender_map.keys()))\n",
        "\n",
        "if st.button(\"🔮 Predict Salary Class\", use_container_width=True):\n",
        "    input_data = {\n",
        "        'age': age,\n",
        "        'education': education_map[education],\n",
        "        'occupation': occupation_map[occupation],\n",
        "        'hours-per-week': hours_per_week,\n",
        "        'capital-gain': capital_gain,\n",
        "        'gender': gender_map[gender]\n",
        "    }\n",
        "\n",
        "    required_columns = ['age', 'workclass', 'fnlwgt', 'education', 'educational-num',\n",
        "                        'marital-status', 'occupation', 'relationship', 'race', 'gender',\n",
        "                        'capital-gain', 'capital-loss', 'hours-per-week', 'native-country']\n",
        "\n",
        "    full_input_data = {col: 0 for col in required_columns}\n",
        "    full_input_data.update(input_data)\n",
        "    full_input_data['workclass'] = workclass_map.get('Private', 0)\n",
        "    full_input_data['fnlwgt'] = 180000\n",
        "    full_input_data['educational-num'] = education_map.get(education, 10)\n",
        "    full_input_data['marital-status'] = marital_status_map.get('Never-married', 4)\n",
        "    full_input_data['relationship'] = relationship_map.get('Not-in-family', 1)\n",
        "    full_input_data['race'] = race_map.get('White', 4)\n",
        "    full_input_data['capital-loss'] = 0\n",
        "    full_input_data['native-country'] = native_country_map.get('United-States', 38)\n",
        "\n",
        "    input_df = pd.DataFrame([full_input_data])\n",
        "    input_df = input_df[required_columns]\n",
        "\n",
        "    prediction_encoded = model.predict(input_df)\n",
        "    prediction_label = '>50K' if prediction_encoded[0] == 1 else '<=50K'\n",
        "\n",
        "    st.markdown(\"---\")\n",
        "    st.subheader(\"📊 Prediction Result\")\n",
        "\n",
        "    if prediction_label == '>50K':\n",
        "        st.success(\"💰 Income Class: **>50K**\")\n",
        "    else:\n",
        "        st.info(\"💼 Income Class: **<=50K**\")\n",
        "\n",
        "    with st.expander(\"🔍 See Processed Input Data\"):\n",
        "        st.dataframe(input_df, use_container_width=True)\n",
        "\n",
        "st.markdown(\"---\")\n",
        "st.caption(\"Created by Viswal Santhosh\")\n"
      ],
      "metadata": {
        "colab": {
          "base_uri": "https://localhost:8080/"
        },
        "id": "r1NUApGOG7SG",
        "outputId": "6d9fbc79-5961-4dfb-9965-46f45b62ec6c"
      },
      "execution_count": 53,
      "outputs": [
        {
          "output_type": "stream",
          "name": "stdout",
          "text": [
            "Overwriting app.py\n"
          ]
        }
      ]
    },
    {
      "cell_type": "code",
      "source": [
        "from pyngrok import ngrok\n",
        "\n",
        "\n",
        "ngrok.set_auth_token(\"30EKxxRzBQfWm7ik14wtKoy3ZH6_3NoEmvWDUD3JbdsSRZnpo\")\n"
      ],
      "metadata": {
        "id": "uYwI33LTINsO",
        "colab": {
          "base_uri": "https://localhost:8080/"
        },
        "outputId": "77c5a291-31fa-45e5-c107-b0b904a1233d"
      },
      "execution_count": 54,
      "outputs": [
        {
          "output_type": "stream",
          "name": "stdout",
          "text": []
        }
      ]
    },
    {
      "cell_type": "code",
      "source": [
        "from pyngrok import ngrok\n",
        "import threading\n",
        "import time\n",
        "import os\n",
        "\n",
        "ngrok.kill()\n",
        "\n",
        "\n",
        "def run_streamlit():\n",
        "    os.system(\"streamlit run app.py\")\n",
        "\n",
        "thread = threading.Thread(target=run_streamlit)\n",
        "thread.start()\n",
        "\n",
        "time.sleep(5)\n",
        "\n",
        "\n",
        "public_url = ngrok.connect(8501)\n",
        "print(\"Streamlit app running at:\", public_url)"
      ],
      "metadata": {
        "colab": {
          "base_uri": "https://localhost:8080/"
        },
        "id": "toTxTy2UHLnH",
        "outputId": "08b19842-bb49-4ff8-8afb-f865b42c86bb"
      },
      "execution_count": 55,
      "outputs": [
        {
          "output_type": "stream",
          "name": "stdout",
          "text": [
            "Streamlit app running at: NgrokTunnel: \"https://4e8fcc2d4c98.ngrok-free.app\" -> \"http://localhost:8501\"\n"
          ]
        }
      ]
    }
  ]
}